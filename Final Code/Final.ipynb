{
 "cells": [
  {
   "cell_type": "markdown",
   "metadata": {},
   "source": [
    "# Womenswear Price Prediction Model"
   ]
  },
  {
   "cell_type": "markdown",
   "metadata": {},
   "source": [
    "### Problem Statement:"
   ]
  },
  {
   "cell_type": "markdown",
   "metadata": {},
   "source": [
    "As the fashion industry continues to evolve with many new players entering the market, it is interesting to understand what are some of the features that could lead to a slight price differentiation between brands. This could help new entrants to determine where they should be pricing their products to gain a competitive edge.\n",
    "\n",
    "This model aims to provide the \"right pricing\" for any given item of clothing, depending on its brand, category as well as descriptions provided by the seller."
   ]
  },
  {
   "cell_type": "code",
   "execution_count": 629,
   "metadata": {},
   "outputs": [],
   "source": [
    "import pandas as pd\n",
    "import matplotlib.pyplot as plt\n",
    "import seaborn as sns\n",
    "\n",
    "# from math import radians, sin, cos, axsin, sqrt\n",
    "from sklearn.metrics import confusion_matrix, roc_curve, auc\n",
    "import numpy as np\n",
    "import patsy\n",
    "\n",
    "from sklearn.linear_model import Ridge, Lasso, ElasticNet, LinearRegression, RidgeCV, LassoCV, ElasticNetCV, LogisticRegression\n",
    "from sklearn.model_selection import train_test_split, cross_val_score, cross_val_predict,StratifiedKFold\n",
    "from sklearn.ensemble import GradientBoostingClassifier, RandomForestClassifier\n",
    "from sklearn.metrics import r2_score,mean_squared_error\n",
    "from scipy.sparse import csr_matrix, hstack\n",
    "from statsmodels.formula.api import ols\n",
    "from sklearn.preprocessing import StandardScaler, PolynomialFeatures, OneHotEncoder\n",
    "import matplotlib\n",
    "import matplotlib.pyplot as plt\n",
    "import seaborn as sns\n",
    "import math\n",
    "import re\n",
    "from sklearn.feature_extraction.text import CountVectorizer, TfidfVectorizer\n",
    "from sklearn.preprocessing import LabelBinarizer\n",
    "from sklearn.ensemble import GradientBoostingClassifier, RandomForestClassifier\n",
    "from sklearn.model_selection import cross_val_score, StratifiedKFold\n",
    "from sklearn.model_selection import GridSearchCV\n",
    "import xgboost as xgb\n",
    "\n",
    "from sklearn.tree import DecisionTreeClassifier\n",
    "from sklearn.ensemble import RandomForestClassifier, ExtraTreesClassifier, BaggingClassifier\n",
    "from sklearn.ensemble import AdaBoostClassifier, GradientBoostingRegressor\n",
    "\n",
    "from sklearn.compose import ColumnTransformer\n",
    "from sklearn.datasets import fetch_openml\n",
    "from sklearn.pipeline import Pipeline,FeatureUnion\n",
    "from sklearn.impute import SimpleImputer\n",
    "from sklearn.preprocessing import StandardScaler, OneHotEncoder\n",
    "from sklearn.linear_model import LogisticRegression\n",
    "from sklearn.model_selection import train_test_split, GridSearchCV\n",
    "\n",
    "%matplotlib inline\n",
    "pd.set_option('display.max_columns',500)\n",
    "pd.options.display.max_colwidth = 400"
   ]
  },
  {
   "cell_type": "markdown",
   "metadata": {},
   "source": [
    "## Merging Datasets and Clean Up"
   ]
  },
  {
   "cell_type": "code",
   "execution_count": 630,
   "metadata": {},
   "outputs": [],
   "source": [
    "asos = pd.read_csv(\"asos.csv\")\n",
    "zalora = pd.read_csv(\"zalora.csv\")\n",
    "hm = pd.read_csv(\"hnm.csv\")\n",
    "zara=pd.read_csv(\"zara.csv\")\n",
    "rb = pd.read_csv(\"rb.csv\")\n",
    "osn = pd.read_csv(\"osn.csv\")\n",
    "lb = pd.read_csv(\"lb_clean.csv\")\n",
    "asos_jeans = pd.read_csv(\"asos_jeans.csv\")\n",
    "asos_trousers = pd.read_csv(\"asos_trousers.csv\")\n",
    "# asos_lingerie = pd.read_csv(\"asos_lingerie.csv\")\n"
   ]
  },
  {
   "cell_type": "code",
   "execution_count": 631,
   "metadata": {},
   "outputs": [
    {
     "data": {
      "text/plain": [
       "Index(['name', 'price', 'colour', 'description', 'about_me', 'brand',\n",
       "       'category'],\n",
       "      dtype='object')"
      ]
     },
     "execution_count": 631,
     "metadata": {},
     "output_type": "execute_result"
    }
   ],
   "source": [
    "asos.drop(columns=['Unnamed: 0'], inplace=True)\n",
    "asos.columns"
   ]
  },
  {
   "cell_type": "code",
   "execution_count": 632,
   "metadata": {},
   "outputs": [
    {
     "data": {
      "text/plain": [
       "Index(['brand', 'title', 'price', 'description', 'colour', 'category'], dtype='object')"
      ]
     },
     "execution_count": 632,
     "metadata": {},
     "output_type": "execute_result"
    }
   ],
   "source": [
    "zalora.drop(columns=['Unnamed: 0'], inplace=True)\n",
    "zalora.columns"
   ]
  },
  {
   "cell_type": "code",
   "execution_count": 633,
   "metadata": {},
   "outputs": [
    {
     "data": {
      "text/plain": [
       "Index(['title', 'price', 'colour', 'description', 'category', 'brand'], dtype='object')"
      ]
     },
     "execution_count": 633,
     "metadata": {},
     "output_type": "execute_result"
    }
   ],
   "source": [
    "zara.drop(columns=['Unnamed: 0'], inplace=True)\n",
    "zara.columns"
   ]
  },
  {
   "cell_type": "code",
   "execution_count": 634,
   "metadata": {},
   "outputs": [
    {
     "data": {
      "text/plain": [
       "Index(['title', 'price', 'brand', 'description', 'colour', 'category'], dtype='object')"
      ]
     },
     "execution_count": 634,
     "metadata": {},
     "output_type": "execute_result"
    }
   ],
   "source": [
    "rb.drop(columns=['Unnamed: 0'], inplace=True)\n",
    "rb.columns"
   ]
  },
  {
   "cell_type": "code",
   "execution_count": 635,
   "metadata": {},
   "outputs": [
    {
     "data": {
      "text/plain": [
       "Index(['brand', 'title', 'price', 'description', 'material', 'colour',\n",
       "       'category'],\n",
       "      dtype='object')"
      ]
     },
     "execution_count": 635,
     "metadata": {},
     "output_type": "execute_result"
    }
   ],
   "source": [
    "osn.drop(columns=['Unnamed: 0'], inplace=True)\n",
    "osn.columns"
   ]
  },
  {
   "cell_type": "code",
   "execution_count": 636,
   "metadata": {},
   "outputs": [
    {
     "data": {
      "text/plain": [
       "Index(['title', 'price', 'description', 'colour', 'category', 'brand'], dtype='object')"
      ]
     },
     "execution_count": 636,
     "metadata": {},
     "output_type": "execute_result"
    }
   ],
   "source": [
    "hm.drop(columns=['Unnamed: 0'], inplace=True)\n",
    "hm['brand'] = 'H&M'\n",
    "hm.columns"
   ]
  },
  {
   "cell_type": "code",
   "execution_count": 637,
   "metadata": {},
   "outputs": [
    {
     "data": {
      "text/plain": [
       "Index(['title', 'price', 'colour', 'category', 'description', 'brand'], dtype='object')"
      ]
     },
     "execution_count": 637,
     "metadata": {},
     "output_type": "execute_result"
    }
   ],
   "source": [
    "lb.drop(columns=['Unnamed: 0'], inplace=True)\n",
    "lb.columns"
   ]
  },
  {
   "cell_type": "code",
   "execution_count": 638,
   "metadata": {},
   "outputs": [
    {
     "data": {
      "text/plain": [
       "Index(['title', 'brand', 'price', 'description', 'colour', 'category'], dtype='object')"
      ]
     },
     "execution_count": 638,
     "metadata": {},
     "output_type": "execute_result"
    }
   ],
   "source": [
    "asos_jeans.drop(columns=['Unnamed: 0'], inplace=True)\n",
    "asos_jeans.columns"
   ]
  },
  {
   "cell_type": "code",
   "execution_count": 639,
   "metadata": {},
   "outputs": [
    {
     "data": {
      "text/plain": [
       "Index(['title', 'brand', 'price', 'description', 'colour', 'category'], dtype='object')"
      ]
     },
     "execution_count": 639,
     "metadata": {},
     "output_type": "execute_result"
    }
   ],
   "source": [
    "asos_trousers.drop(columns=['Unnamed: 0'], inplace=True)\n",
    "asos_trousers.columns"
   ]
  },
  {
   "cell_type": "code",
   "execution_count": 640,
   "metadata": {},
   "outputs": [
    {
     "data": {
      "text/html": [
       "<div>\n",
       "<style scoped>\n",
       "    .dataframe tbody tr th:only-of-type {\n",
       "        vertical-align: middle;\n",
       "    }\n",
       "\n",
       "    .dataframe tbody tr th {\n",
       "        vertical-align: top;\n",
       "    }\n",
       "\n",
       "    .dataframe thead th {\n",
       "        text-align: right;\n",
       "    }\n",
       "</style>\n",
       "<table border=\"1\" class=\"dataframe\">\n",
       "  <thead>\n",
       "    <tr style=\"text-align: right;\">\n",
       "      <th></th>\n",
       "      <th>name</th>\n",
       "      <th>price</th>\n",
       "      <th>colour</th>\n",
       "      <th>brand</th>\n",
       "      <th>category</th>\n",
       "      <th>full_description</th>\n",
       "    </tr>\n",
       "  </thead>\n",
       "  <tbody>\n",
       "    <tr>\n",
       "      <th>0</th>\n",
       "      <td>&amp; Other Stories velvet jacquard ruched mini skirt in black</td>\n",
       "      <td>101.90</td>\n",
       "      <td>Black</td>\n",
       "      <td>&amp; Other Stories</td>\n",
       "      <td>skirts</td>\n",
       "      <td>Coming soon to your Saved Items Stretch waistband Ruched design Ruffled hem Bodycon fit A tight cut to the body            Velvet jacquard Drapey fabric with an intricate, interwoven pattern  Main: 95% Polyester, 5% Elastane.</td>\n",
       "    </tr>\n",
       "    <tr>\n",
       "      <th>1</th>\n",
       "      <td>ASOS DESIGN neon boucle suit skirt</td>\n",
       "      <td>55.58</td>\n",
       "      <td>Check</td>\n",
       "      <td>ASOS DESIGN</td>\n",
       "      <td>skirts</td>\n",
       "      <td>For your daytime thing Check design High-rise waist    Zip-side fastening Slim fit Cut close to the body            Textured boucléLooped fabric with a woolly finish Body: 68% Acrylic, 25% Polyester, 7% Viscose, Lining: 100% Polyester.</td>\n",
       "    </tr>\n",
       "    <tr>\n",
       "      <th>2</th>\n",
       "      <td>Liquorish pleated midaxi skirt in pink neon colour block</td>\n",
       "      <td>101.90</td>\n",
       "      <td>Pink</td>\n",
       "      <td>Liquorish</td>\n",
       "      <td>skirts</td>\n",
       "      <td>For that thing you have to go to Pleated design High rise Stretch waistband    Midi length Regular fit Just select your usual size            Smooth woven fabric It's light and floaty  Fabric: 100% Polyester.</td>\n",
       "    </tr>\n",
       "    <tr>\n",
       "      <th>3</th>\n",
       "      <td>Vila faux leather skirt</td>\n",
       "      <td>55.58</td>\n",
       "      <td>Black</td>\n",
       "      <td>Vila</td>\n",
       "      <td>skirts</td>\n",
       "      <td>Add-to-bag potential: considerable    High-rise waist Kick split    Zip-back fastening    Regular fit Just select your usual size            Faux leather Looks like real leather, but it's not Pointing out the obvious Body: 100% Polyester.</td>\n",
       "    </tr>\n",
       "    <tr>\n",
       "      <th>4</th>\n",
       "      <td>People Tree velvet mini skirt</td>\n",
       "      <td>120.43</td>\n",
       "      <td>Black</td>\n",
       "      <td>People Tree</td>\n",
       "      <td>skirts</td>\n",
       "      <td>Easily dressed up or down High-rise waist Button detail Regular fit Just select your usual size            Soft velvet One smooth operator Body: 100% Cotton.</td>\n",
       "    </tr>\n",
       "  </tbody>\n",
       "</table>\n",
       "</div>"
      ],
      "text/plain": [
       "                                                         name   price colour  \\\n",
       "0  & Other Stories velvet jacquard ruched mini skirt in black  101.90  Black   \n",
       "1                          ASOS DESIGN neon boucle suit skirt   55.58  Check   \n",
       "2    Liquorish pleated midaxi skirt in pink neon colour block  101.90   Pink   \n",
       "3                                     Vila faux leather skirt   55.58  Black   \n",
       "4                               People Tree velvet mini skirt  120.43  Black   \n",
       "\n",
       "             brand category  \\\n",
       "0  & Other Stories   skirts   \n",
       "1      ASOS DESIGN   skirts   \n",
       "2        Liquorish   skirts   \n",
       "3             Vila   skirts   \n",
       "4      People Tree   skirts   \n",
       "\n",
       "                                                                                                                                                                                                                                 full_description  \n",
       "0               Coming soon to your Saved Items Stretch waistband Ruched design Ruffled hem Bodycon fit A tight cut to the body            Velvet jacquard Drapey fabric with an intricate, interwoven pattern  Main: 95% Polyester, 5% Elastane.  \n",
       "1     For your daytime thing Check design High-rise waist    Zip-side fastening Slim fit Cut close to the body            Textured boucléLooped fabric with a woolly finish Body: 68% Acrylic, 25% Polyester, 7% Viscose, Lining: 100% Polyester.  \n",
       "2                                For that thing you have to go to Pleated design High rise Stretch waistband    Midi length Regular fit Just select your usual size            Smooth woven fabric It's light and floaty  Fabric: 100% Polyester.  \n",
       "3  Add-to-bag potential: considerable    High-rise waist Kick split    Zip-back fastening    Regular fit Just select your usual size            Faux leather Looks like real leather, but it's not Pointing out the obvious Body: 100% Polyester.  \n",
       "4                                                                                   Easily dressed up or down High-rise waist Button detail Regular fit Just select your usual size            Soft velvet One smooth operator Body: 100% Cotton.  "
      ]
     },
     "execution_count": 640,
     "metadata": {},
     "output_type": "execute_result"
    }
   ],
   "source": [
    "asos['full_description'] = asos['description'] + ' ' + asos['about_me']\n",
    "asos.drop(columns=['about_me', 'description'],inplace=True)\n",
    "asos.head()"
   ]
  },
  {
   "cell_type": "code",
   "execution_count": 641,
   "metadata": {},
   "outputs": [
    {
     "data": {
      "text/html": [
       "<div>\n",
       "<style scoped>\n",
       "    .dataframe tbody tr th:only-of-type {\n",
       "        vertical-align: middle;\n",
       "    }\n",
       "\n",
       "    .dataframe tbody tr th {\n",
       "        vertical-align: top;\n",
       "    }\n",
       "\n",
       "    .dataframe thead th {\n",
       "        text-align: right;\n",
       "    }\n",
       "</style>\n",
       "<table border=\"1\" class=\"dataframe\">\n",
       "  <thead>\n",
       "    <tr style=\"text-align: right;\">\n",
       "      <th></th>\n",
       "      <th>title</th>\n",
       "      <th>price</th>\n",
       "      <th>colour</th>\n",
       "      <th>brand</th>\n",
       "      <th>category</th>\n",
       "      <th>description</th>\n",
       "    </tr>\n",
       "  </thead>\n",
       "  <tbody>\n",
       "    <tr>\n",
       "      <th>0</th>\n",
       "      <td>&amp; Other Stories velvet jacquard ruched mini skirt in black</td>\n",
       "      <td>101.90</td>\n",
       "      <td>Black</td>\n",
       "      <td>&amp; Other Stories</td>\n",
       "      <td>skirts</td>\n",
       "      <td>Coming soon to your Saved Items Stretch waistband Ruched design Ruffled hem Bodycon fit A tight cut to the body            Velvet jacquard Drapey fabric with an intricate, interwoven pattern  Main: 95% Polyester, 5% Elastane.</td>\n",
       "    </tr>\n",
       "    <tr>\n",
       "      <th>1</th>\n",
       "      <td>ASOS DESIGN neon boucle suit skirt</td>\n",
       "      <td>55.58</td>\n",
       "      <td>Check</td>\n",
       "      <td>ASOS DESIGN</td>\n",
       "      <td>skirts</td>\n",
       "      <td>For your daytime thing Check design High-rise waist    Zip-side fastening Slim fit Cut close to the body            Textured boucléLooped fabric with a woolly finish Body: 68% Acrylic, 25% Polyester, 7% Viscose, Lining: 100% Polyester.</td>\n",
       "    </tr>\n",
       "    <tr>\n",
       "      <th>2</th>\n",
       "      <td>Liquorish pleated midaxi skirt in pink neon colour block</td>\n",
       "      <td>101.90</td>\n",
       "      <td>Pink</td>\n",
       "      <td>Liquorish</td>\n",
       "      <td>skirts</td>\n",
       "      <td>For that thing you have to go to Pleated design High rise Stretch waistband    Midi length Regular fit Just select your usual size            Smooth woven fabric It's light and floaty  Fabric: 100% Polyester.</td>\n",
       "    </tr>\n",
       "    <tr>\n",
       "      <th>3</th>\n",
       "      <td>Vila faux leather skirt</td>\n",
       "      <td>55.58</td>\n",
       "      <td>Black</td>\n",
       "      <td>Vila</td>\n",
       "      <td>skirts</td>\n",
       "      <td>Add-to-bag potential: considerable    High-rise waist Kick split    Zip-back fastening    Regular fit Just select your usual size            Faux leather Looks like real leather, but it's not Pointing out the obvious Body: 100% Polyester.</td>\n",
       "    </tr>\n",
       "    <tr>\n",
       "      <th>4</th>\n",
       "      <td>People Tree velvet mini skirt</td>\n",
       "      <td>120.43</td>\n",
       "      <td>Black</td>\n",
       "      <td>People Tree</td>\n",
       "      <td>skirts</td>\n",
       "      <td>Easily dressed up or down High-rise waist Button detail Regular fit Just select your usual size            Soft velvet One smooth operator Body: 100% Cotton.</td>\n",
       "    </tr>\n",
       "  </tbody>\n",
       "</table>\n",
       "</div>"
      ],
      "text/plain": [
       "                                                        title   price colour  \\\n",
       "0  & Other Stories velvet jacquard ruched mini skirt in black  101.90  Black   \n",
       "1                          ASOS DESIGN neon boucle suit skirt   55.58  Check   \n",
       "2    Liquorish pleated midaxi skirt in pink neon colour block  101.90   Pink   \n",
       "3                                     Vila faux leather skirt   55.58  Black   \n",
       "4                               People Tree velvet mini skirt  120.43  Black   \n",
       "\n",
       "             brand category  \\\n",
       "0  & Other Stories   skirts   \n",
       "1      ASOS DESIGN   skirts   \n",
       "2        Liquorish   skirts   \n",
       "3             Vila   skirts   \n",
       "4      People Tree   skirts   \n",
       "\n",
       "                                                                                                                                                                                                                                      description  \n",
       "0               Coming soon to your Saved Items Stretch waistband Ruched design Ruffled hem Bodycon fit A tight cut to the body            Velvet jacquard Drapey fabric with an intricate, interwoven pattern  Main: 95% Polyester, 5% Elastane.  \n",
       "1     For your daytime thing Check design High-rise waist    Zip-side fastening Slim fit Cut close to the body            Textured boucléLooped fabric with a woolly finish Body: 68% Acrylic, 25% Polyester, 7% Viscose, Lining: 100% Polyester.  \n",
       "2                                For that thing you have to go to Pleated design High rise Stretch waistband    Midi length Regular fit Just select your usual size            Smooth woven fabric It's light and floaty  Fabric: 100% Polyester.  \n",
       "3  Add-to-bag potential: considerable    High-rise waist Kick split    Zip-back fastening    Regular fit Just select your usual size            Faux leather Looks like real leather, but it's not Pointing out the obvious Body: 100% Polyester.  \n",
       "4                                                                                   Easily dressed up or down High-rise waist Button detail Regular fit Just select your usual size            Soft velvet One smooth operator Body: 100% Cotton.  "
      ]
     },
     "execution_count": 641,
     "metadata": {},
     "output_type": "execute_result"
    }
   ],
   "source": [
    "asos.rename(columns={'full_description':'description','name':'title'},inplace=True)\n",
    "asos.head()"
   ]
  },
  {
   "cell_type": "code",
   "execution_count": 642,
   "metadata": {},
   "outputs": [
    {
     "name": "stderr",
     "output_type": "stream",
     "text": [
      "/Users/lynn/anaconda3/lib/python3.7/site-packages/ipykernel_launcher.py:1: FutureWarning: Sorting because non-concatenation axis is not aligned. A future version\n",
      "of pandas will change to not sort by default.\n",
      "\n",
      "To accept the future behavior, pass 'sort=False'.\n",
      "\n",
      "To retain the current behavior and silence the warning, pass 'sort=True'.\n",
      "\n",
      "  \"\"\"Entry point for launching an IPython kernel.\n"
     ]
    },
    {
     "data": {
      "text/html": [
       "<div>\n",
       "<style scoped>\n",
       "    .dataframe tbody tr th:only-of-type {\n",
       "        vertical-align: middle;\n",
       "    }\n",
       "\n",
       "    .dataframe tbody tr th {\n",
       "        vertical-align: top;\n",
       "    }\n",
       "\n",
       "    .dataframe thead th {\n",
       "        text-align: right;\n",
       "    }\n",
       "</style>\n",
       "<table border=\"1\" class=\"dataframe\">\n",
       "  <thead>\n",
       "    <tr style=\"text-align: right;\">\n",
       "      <th></th>\n",
       "      <th>brand</th>\n",
       "      <th>category</th>\n",
       "      <th>colour</th>\n",
       "      <th>description</th>\n",
       "      <th>price</th>\n",
       "      <th>title</th>\n",
       "    </tr>\n",
       "  </thead>\n",
       "  <tbody>\n",
       "    <tr>\n",
       "      <th>0</th>\n",
       "      <td>Kodz</td>\n",
       "      <td>jumpsuits</td>\n",
       "      <td>Khaki</td>\n",
       "      <td>Slouchy short sleeves jumpsuit with waist tie   Round neckline   Regular fit   Zip fastening   2 pockets   Polyblend</td>\n",
       "      <td>64.9</td>\n",
       "      <td>Square Neck Tie Waist Jumpsuit</td>\n",
       "    </tr>\n",
       "    <tr>\n",
       "      <th>1</th>\n",
       "      <td>Kodz</td>\n",
       "      <td>jumpsuits</td>\n",
       "      <td>Green</td>\n",
       "      <td>Solid hue strappy wrap jumpsuit   V neckline   Regular fit   Elasticized waistband   2 side pockets   Sleeveless   Tapered legs   Polyester blend</td>\n",
       "      <td>54.9</td>\n",
       "      <td>Cross Front Jumpsuit</td>\n",
       "    </tr>\n",
       "    <tr>\n",
       "      <th>2</th>\n",
       "      <td>Kodz</td>\n",
       "      <td>jumpsuits</td>\n",
       "      <td>Apricot</td>\n",
       "      <td>Buttoned jumpsuit with stripes   Notch lapels   Regular fit   Front button fastening   Self tie waist closure   2 side pockets   Sleeveless   Wide legs   Polyester</td>\n",
       "      <td>59.9</td>\n",
       "      <td>Belted Button Front Jumpsuit</td>\n",
       "    </tr>\n",
       "    <tr>\n",
       "      <th>3</th>\n",
       "      <td>Finders Keepers</td>\n",
       "      <td>jumpsuits</td>\n",
       "      <td>Black</td>\n",
       "      <td>Solid tone front twist strapless jumpsuit   Bandeau neckline   Unlined   Regular fit   Back zip fastening   Polyblend</td>\n",
       "      <td>237.9</td>\n",
       "      <td>Elena Jumpsuit</td>\n",
       "    </tr>\n",
       "    <tr>\n",
       "      <th>4</th>\n",
       "      <td>ZALORA BASICS</td>\n",
       "      <td>jumpsuits</td>\n",
       "      <td>Khaki</td>\n",
       "      <td>Solid hue playsuit with rope detail   Notch lapels   Regular fit   Side zip fastening   Self tie waist closure   Short sleeves   Polyester</td>\n",
       "      <td>34.9</td>\n",
       "      <td>Basic Rope Tie Resort Playsuit</td>\n",
       "    </tr>\n",
       "  </tbody>\n",
       "</table>\n",
       "</div>"
      ],
      "text/plain": [
       "             brand   category   colour  \\\n",
       "0             Kodz  jumpsuits    Khaki   \n",
       "1             Kodz  jumpsuits    Green   \n",
       "2             Kodz  jumpsuits  Apricot   \n",
       "3  Finders Keepers  jumpsuits    Black   \n",
       "4    ZALORA BASICS  jumpsuits    Khaki   \n",
       "\n",
       "                                                                                                                                                             description  \\\n",
       "0                                                   Slouchy short sleeves jumpsuit with waist tie   Round neckline   Regular fit   Zip fastening   2 pockets   Polyblend   \n",
       "1                      Solid hue strappy wrap jumpsuit   V neckline   Regular fit   Elasticized waistband   2 side pockets   Sleeveless   Tapered legs   Polyester blend   \n",
       "2    Buttoned jumpsuit with stripes   Notch lapels   Regular fit   Front button fastening   Self tie waist closure   2 side pockets   Sleeveless   Wide legs   Polyester   \n",
       "3                                                  Solid tone front twist strapless jumpsuit   Bandeau neckline   Unlined   Regular fit   Back zip fastening   Polyblend   \n",
       "4                             Solid hue playsuit with rope detail   Notch lapels   Regular fit   Side zip fastening   Self tie waist closure   Short sleeves   Polyester   \n",
       "\n",
       "   price                           title  \n",
       "0   64.9  Square Neck Tie Waist Jumpsuit  \n",
       "1   54.9            Cross Front Jumpsuit  \n",
       "2   59.9    Belted Button Front Jumpsuit  \n",
       "3  237.9                  Elena Jumpsuit  \n",
       "4   34.9  Basic Rope Tie Resort Playsuit  "
      ]
     },
     "execution_count": 642,
     "metadata": {},
     "output_type": "execute_result"
    }
   ],
   "source": [
    "df = pd.concat([zalora,asos,hm,zara,rb,lb,asos_jeans,asos_trousers,asos_lingerie])\n",
    "df = df.reset_index(drop=True)\n",
    "df.head()"
   ]
  },
  {
   "cell_type": "code",
   "execution_count": 643,
   "metadata": {},
   "outputs": [
    {
     "data": {
      "text/plain": [
       "Text(0.5, 1.0, 'Price Distribution')"
      ]
     },
     "execution_count": 643,
     "metadata": {},
     "output_type": "execute_result"
    },
    {
     "data": {
      "image/png": "[encoded data removed]",
      "text/plain": [
       "<Figure size 864x432 with 2 Axes>"
      ]
     },
     "metadata": {
      "needs_background": "light"
     },
     "output_type": "display_data"
    }
   ],
   "source": [
    "plt.subplot(1, 2, 1)\n",
    "(df['price']).plot.hist(bins=50, figsize=(12, 6), edgecolor = 'white', range = [0, 250])\n",
    "plt.xlabel('price', fontsize=12)\n",
    "plt.title('Price Distribution', fontsize=12)\n",
    "\n",
    "plt.subplot(1, 2, 2)\n",
    "np.log(df['price']+1).plot.hist(bins=50, figsize=(12,6), edgecolor='white')\n",
    "plt.xlabel('log(price+1)', fontsize=12)\n",
    "plt.title('Price Distribution', fontsize=12)\n"
   ]
  },
  {
   "cell_type": "code",
   "execution_count": 644,
   "metadata": {},
   "outputs": [
    {
     "data": {
      "text/html": [
       "<div>\n",
       "<style scoped>\n",
       "    .dataframe tbody tr th:only-of-type {\n",
       "        vertical-align: middle;\n",
       "    }\n",
       "\n",
       "    .dataframe tbody tr th {\n",
       "        vertical-align: top;\n",
       "    }\n",
       "\n",
       "    .dataframe thead th {\n",
       "        text-align: right;\n",
       "    }\n",
       "</style>\n",
       "<table border=\"1\" class=\"dataframe\">\n",
       "  <thead>\n",
       "    <tr style=\"text-align: right;\">\n",
       "      <th></th>\n",
       "      <th>brand</th>\n",
       "      <th>category</th>\n",
       "      <th>colour</th>\n",
       "      <th>description</th>\n",
       "      <th>price</th>\n",
       "      <th>title</th>\n",
       "    </tr>\n",
       "  </thead>\n",
       "  <tbody>\n",
       "    <tr>\n",
       "      <th>0</th>\n",
       "      <td>Kodz</td>\n",
       "      <td>jumpsuits</td>\n",
       "      <td>Khaki</td>\n",
       "      <td>Slouchy short sleeves jumpsuit with waist tie   Round neckline   Regular fit   Zip fastening   2 pockets   Polyblend</td>\n",
       "      <td>64.9</td>\n",
       "      <td>Square Neck Tie Waist Jumpsuit</td>\n",
       "    </tr>\n",
       "    <tr>\n",
       "      <th>1</th>\n",
       "      <td>Kodz</td>\n",
       "      <td>jumpsuits</td>\n",
       "      <td>Green</td>\n",
       "      <td>Solid hue strappy wrap jumpsuit   V neckline   Regular fit   Elasticized waistband   2 side pockets   Sleeveless   Tapered legs   Polyester blend</td>\n",
       "      <td>54.9</td>\n",
       "      <td>Cross Front Jumpsuit</td>\n",
       "    </tr>\n",
       "    <tr>\n",
       "      <th>2</th>\n",
       "      <td>Kodz</td>\n",
       "      <td>jumpsuits</td>\n",
       "      <td>Apricot</td>\n",
       "      <td>Buttoned jumpsuit with stripes   Notch lapels   Regular fit   Front button fastening   Self tie waist closure   2 side pockets   Sleeveless   Wide legs   Polyester</td>\n",
       "      <td>59.9</td>\n",
       "      <td>Belted Button Front Jumpsuit</td>\n",
       "    </tr>\n",
       "    <tr>\n",
       "      <th>3</th>\n",
       "      <td>Finders Keepers</td>\n",
       "      <td>jumpsuits</td>\n",
       "      <td>Black</td>\n",
       "      <td>Solid tone front twist strapless jumpsuit   Bandeau neckline   Unlined   Regular fit   Back zip fastening   Polyblend</td>\n",
       "      <td>237.9</td>\n",
       "      <td>Elena Jumpsuit</td>\n",
       "    </tr>\n",
       "    <tr>\n",
       "      <th>4</th>\n",
       "      <td>ZALORA BASICS</td>\n",
       "      <td>jumpsuits</td>\n",
       "      <td>Khaki</td>\n",
       "      <td>Solid hue playsuit with rope detail   Notch lapels   Regular fit   Side zip fastening   Self tie waist closure   Short sleeves   Polyester</td>\n",
       "      <td>34.9</td>\n",
       "      <td>Basic Rope Tie Resort Playsuit</td>\n",
       "    </tr>\n",
       "  </tbody>\n",
       "</table>\n",
       "</div>"
      ],
      "text/plain": [
       "             brand   category   colour  \\\n",
       "0             Kodz  jumpsuits    Khaki   \n",
       "1             Kodz  jumpsuits    Green   \n",
       "2             Kodz  jumpsuits  Apricot   \n",
       "3  Finders Keepers  jumpsuits    Black   \n",
       "4    ZALORA BASICS  jumpsuits    Khaki   \n",
       "\n",
       "                                                                                                                                                             description  \\\n",
       "0                                                   Slouchy short sleeves jumpsuit with waist tie   Round neckline   Regular fit   Zip fastening   2 pockets   Polyblend   \n",
       "1                      Solid hue strappy wrap jumpsuit   V neckline   Regular fit   Elasticized waistband   2 side pockets   Sleeveless   Tapered legs   Polyester blend   \n",
       "2    Buttoned jumpsuit with stripes   Notch lapels   Regular fit   Front button fastening   Self tie waist closure   2 side pockets   Sleeveless   Wide legs   Polyester   \n",
       "3                                                  Solid tone front twist strapless jumpsuit   Bandeau neckline   Unlined   Regular fit   Back zip fastening   Polyblend   \n",
       "4                             Solid hue playsuit with rope detail   Notch lapels   Regular fit   Side zip fastening   Self tie waist closure   Short sleeves   Polyester   \n",
       "\n",
       "   price                           title  \n",
       "0   64.9  Square Neck Tie Waist Jumpsuit  \n",
       "1   54.9            Cross Front Jumpsuit  \n",
       "2   59.9    Belted Button Front Jumpsuit  \n",
       "3  237.9                  Elena Jumpsuit  \n",
       "4   34.9  Basic Rope Tie Resort Playsuit  "
      ]
     },
     "execution_count": 644,
     "metadata": {},
     "output_type": "execute_result"
    }
   ],
   "source": [
    "df.head()"
   ]
  },
  {
   "cell_type": "code",
   "execution_count": 645,
   "metadata": {},
   "outputs": [
    {
     "data": {
      "text/plain": [
       "(84021, 6)"
      ]
     },
     "execution_count": 645,
     "metadata": {},
     "output_type": "execute_result"
    }
   ],
   "source": [
    "df.shape"
   ]
  },
  {
   "cell_type": "code",
   "execution_count": 646,
   "metadata": {},
   "outputs": [
    {
     "data": {
      "text/plain": [
       "brand           object\n",
       "category        object\n",
       "colour          object\n",
       "description     object\n",
       "price          float64\n",
       "title           object\n",
       "dtype: object"
      ]
     },
     "execution_count": 646,
     "metadata": {},
     "output_type": "execute_result"
    }
   ],
   "source": [
    "df.dtypes"
   ]
  },
  {
   "cell_type": "code",
   "execution_count": 647,
   "metadata": {},
   "outputs": [
    {
     "data": {
      "text/plain": [
       "brand            0\n",
       "category         0\n",
       "colour           1\n",
       "description    143\n",
       "price            1\n",
       "title            0\n",
       "dtype: int64"
      ]
     },
     "execution_count": 647,
     "metadata": {},
     "output_type": "execute_result"
    }
   ],
   "source": [
    "df.isnull().sum()"
   ]
  },
  {
   "cell_type": "code",
   "execution_count": 648,
   "metadata": {},
   "outputs": [],
   "source": [
    "df['category'] = df['category'].str.lower()"
   ]
  },
  {
   "cell_type": "code",
   "execution_count": 649,
   "metadata": {},
   "outputs": [
    {
     "data": {
      "text/plain": [
       "array(['jumpsuits', 'pants', 'skirts', 'dresses', 'shorts', 'jackets',\n",
       "       'blazers', 'jeans', 'cardigans', 'hoodies', 'tops', 'bottoms',\n",
       "       'outerwear', 'loungewear', 'dress', 'lingerie', 'plus size',\n",
       "       'jumpsuit', 'maternity', 'activewear', 'basics'], dtype=object)"
      ]
     },
     "execution_count": 649,
     "metadata": {},
     "output_type": "execute_result"
    }
   ],
   "source": [
    "df['category'].unique()"
   ]
  },
  {
   "cell_type": "code",
   "execution_count": 650,
   "metadata": {},
   "outputs": [],
   "source": [
    "for row in range(df.shape[0]):\n",
    "    if 'jumpsuit' in df['category'][row]:\n",
    "        df.loc[row,'category'] = 'jumpsuits'\n",
    "    elif 'jackets' in df['category'][row]:\n",
    "        df.loc[row,'category'] = 'outerwear'\n",
    "    elif 'blazers' in df['category'][row]:\n",
    "        df.loc[row,'category'] = 'outerwear'\n",
    "    elif 'cardigan' in df['category'][row]:\n",
    "        df.loc[row,'category'] = 'outerwear'\n",
    "    elif 'hoodies' in df['category'][row]:\n",
    "        df.loc[row,'category'] = 'outerwear'\n",
    "    elif 'dress' in df['category'][row]:\n",
    "        df.loc[row,'category'] = 'dresses'\n",
    "    elif 'pants' in df['category'][row]:\n",
    "        df.loc[row,'category'] = 'bottoms'\n",
    "\n",
    "        "
   ]
  },
  {
   "cell_type": "code",
   "execution_count": 651,
   "metadata": {},
   "outputs": [
    {
     "data": {
      "text/plain": [
       "14"
      ]
     },
     "execution_count": 651,
     "metadata": {},
     "output_type": "execute_result"
    }
   ],
   "source": [
    "df['category'].nunique()"
   ]
  },
  {
   "cell_type": "code",
   "execution_count": 652,
   "metadata": {},
   "outputs": [
    {
     "data": {
      "text/plain": [
       "array(['jumpsuits', 'bottoms', 'skirts', 'dresses', 'shorts', 'outerwear',\n",
       "       'jeans', 'tops', 'loungewear', 'lingerie', 'plus size',\n",
       "       'maternity', 'activewear', 'basics'], dtype=object)"
      ]
     },
     "execution_count": 652,
     "metadata": {},
     "output_type": "execute_result"
    }
   ],
   "source": [
    "df['category'].unique()"
   ]
  },
  {
   "cell_type": "code",
   "execution_count": 653,
   "metadata": {},
   "outputs": [],
   "source": [
    "# category_tofix = []\n",
    "# categories = ['tops','dress','skirts','outerwear','bottoms','jumpsuits','shorts','jeans']\n",
    "# for category in df['category'].unique():\n",
    "#     if category not in categories:\n",
    "#         category_tofix.append(category)\n",
    "\n",
    "# for row in range(df.shape[0]):\n",
    "#         if df['category'][row] not in category_tofix:\n",
    "#             df.drop(row,inplace=True)"
   ]
  },
  {
   "cell_type": "code",
   "execution_count": 654,
   "metadata": {},
   "outputs": [],
   "source": [
    "categories = ['tops','dresses','skirts','outerwear','bottoms','shorts','jeans','lingerie','loungewear']\n",
    "for row in range(df.shape[0]):\n",
    "        if df['category'][row] not in categories:\n",
    "            df.drop(row,inplace=True)"
   ]
  },
  {
   "cell_type": "code",
   "execution_count": 655,
   "metadata": {},
   "outputs": [
    {
     "data": {
      "text/plain": [
       "category\n",
       "tops          18267\n",
       "dresses       13980\n",
       "outerwear     13102\n",
       "skirts        10873\n",
       "bottoms       10638\n",
       "shorts         4916\n",
       "jeans          3976\n",
       "lingerie       2736\n",
       "loungewear      644\n",
       "Name: price, dtype: int64"
      ]
     },
     "execution_count": 655,
     "metadata": {},
     "output_type": "execute_result"
    }
   ],
   "source": [
    "df.groupby('category')['price'].count().sort_values(ascending=False)"
   ]
  },
  {
   "cell_type": "code",
   "execution_count": 656,
   "metadata": {},
   "outputs": [
    {
     "data": {
      "text/plain": [
       "<matplotlib.axes._subplots.AxesSubplot at 0x1a51570828>"
      ]
     },
     "execution_count": 656,
     "metadata": {},
     "output_type": "execute_result"
    },
    {
     "data": {
      "image/png": "[encoded data removed]",
      "text/plain": [
       "<Figure size 1296x576 with 1 Axes>"
      ]
     },
     "metadata": {
      "needs_background": "light"
     },
     "output_type": "display_data"
    }
   ],
   "source": [
    "tops = df.loc[(df['category']=='tops'), 'price']\n",
    "dresses = df.loc[(df['category'] == 'dresses'), 'price']\n",
    "outerwear = df.loc[(df['category'] == 'outerwear'), 'price']\n",
    "skirts = df.loc[(df['category'] == 'skirts'), 'price']\n",
    "bottoms = df.loc[(df['category'] == 'bottoms'), 'price']\n",
    "shorts = df.loc[(df['category'] == 'shorts'), 'price']\n",
    "jumpsuits = df.loc[(df['category'] == 'jumpsuits'), 'price']\n",
    "jeans = df.loc[(df['category'] == 'jeans'), 'price']\n",
    "lingerie = df.loc[(df['category'] == 'lingerie'), 'price']\n",
    "loungewear = df.loc[(df['category'] == 'loungewear'), 'price']\n",
    "\n",
    "\n",
    "fig, ax = plt.subplots(figsize=(18,8))\n",
    "\n",
    "sns.boxplot(x = 'category', y = df.price, data = df, palette = sns.color_palette('RdBu',5))\n"
   ]
  },
  {
   "cell_type": "code",
   "execution_count": 657,
   "metadata": {},
   "outputs": [
    {
     "data": {
      "text/plain": [
       "Index(['brand', 'category', 'colour', 'description', 'price', 'title'], dtype='object')"
      ]
     },
     "execution_count": 657,
     "metadata": {},
     "output_type": "execute_result"
    }
   ],
   "source": [
    "df.columns"
   ]
  },
  {
   "cell_type": "code",
   "execution_count": 658,
   "metadata": {},
   "outputs": [
    {
     "data": {
      "text/plain": [
       "(79133, 6)"
      ]
     },
     "execution_count": 658,
     "metadata": {},
     "output_type": "execute_result"
    }
   ],
   "source": [
    "df.shape"
   ]
  },
  {
   "cell_type": "code",
   "execution_count": 659,
   "metadata": {},
   "outputs": [
    {
     "data": {
      "text/plain": [
       "array(['bottoms', 'skirts', 'dresses', 'shorts', 'outerwear', 'jeans',\n",
       "       'tops', 'loungewear', 'lingerie'], dtype=object)"
      ]
     },
     "execution_count": 659,
     "metadata": {},
     "output_type": "execute_result"
    }
   ],
   "source": [
    "df['category'].unique()"
   ]
  },
  {
   "cell_type": "code",
   "execution_count": 660,
   "metadata": {},
   "outputs": [],
   "source": [
    "# for row in range(df.shape[0]):\n",
    "#     if df.loc[row,'category'] =='basics':\n",
    "#         print (df.loc[row])"
   ]
  },
  {
   "cell_type": "code",
   "execution_count": 661,
   "metadata": {},
   "outputs": [],
   "source": [
    "df['description'].fillna(\" \",inplace=True)"
   ]
  },
  {
   "cell_type": "code",
   "execution_count": 662,
   "metadata": {},
   "outputs": [],
   "source": [
    "df['description']= df['description'].str.replace('-',' ')\n",
    "df['description']= df['description'].str.lower()\n",
    "df['title']= df['title'].str.lower()\n",
    "df['brand']= df['brand'].str.lower()\n",
    "df['colour']= df['colour'].str.lower()\n"
   ]
  },
  {
   "cell_type": "code",
   "execution_count": 663,
   "metadata": {},
   "outputs": [
    {
     "data": {
      "text/plain": [
       "(79133, 6)"
      ]
     },
     "execution_count": 663,
     "metadata": {},
     "output_type": "execute_result"
    }
   ],
   "source": [
    "df.shape"
   ]
  },
  {
   "cell_type": "code",
   "execution_count": 664,
   "metadata": {},
   "outputs": [],
   "source": [
    "df = df[df['price']>0]\n",
    "df = df[df['price']<300]"
   ]
  },
  {
   "cell_type": "code",
   "execution_count": 665,
   "metadata": {},
   "outputs": [],
   "source": [
    " df['colour'].fillna(\"missing\",inplace=True)"
   ]
  },
  {
   "cell_type": "code",
   "execution_count": 666,
   "metadata": {},
   "outputs": [
    {
     "data": {
      "text/plain": [
       "brand          0\n",
       "category       0\n",
       "colour         0\n",
       "description    0\n",
       "price          0\n",
       "title          0\n",
       "dtype: int64"
      ]
     },
     "execution_count": 666,
     "metadata": {},
     "output_type": "execute_result"
    }
   ],
   "source": [
    "df.isnull().sum()"
   ]
  },
  {
   "cell_type": "code",
   "execution_count": 667,
   "metadata": {},
   "outputs": [
    {
     "data": {
      "text/html": [
       "<div>\n",
       "<style scoped>\n",
       "    .dataframe tbody tr th:only-of-type {\n",
       "        vertical-align: middle;\n",
       "    }\n",
       "\n",
       "    .dataframe tbody tr th {\n",
       "        vertical-align: top;\n",
       "    }\n",
       "\n",
       "    .dataframe thead th {\n",
       "        text-align: right;\n",
       "    }\n",
       "</style>\n",
       "<table border=\"1\" class=\"dataframe\">\n",
       "  <thead>\n",
       "    <tr style=\"text-align: right;\">\n",
       "      <th></th>\n",
       "      <th>brand</th>\n",
       "      <th>category</th>\n",
       "      <th>colour</th>\n",
       "      <th>description</th>\n",
       "      <th>price</th>\n",
       "      <th>title</th>\n",
       "    </tr>\n",
       "  </thead>\n",
       "  <tbody>\n",
       "    <tr>\n",
       "      <th>4552</th>\n",
       "      <td>banana republic</td>\n",
       "      <td>bottoms</td>\n",
       "      <td>navy</td>\n",
       "      <td>solid shade skinny pants   mid rise   skinny fit   front zip and hook fastening   cotton blend</td>\n",
       "      <td>121.90</td>\n",
       "      <td>sloan pants</td>\n",
       "    </tr>\n",
       "    <tr>\n",
       "      <th>4553</th>\n",
       "      <td>reebok</td>\n",
       "      <td>bottoms</td>\n",
       "      <td>black</td>\n",
       "      <td>in collaboration with gigi hadid   best for lifestyle   solid tone leggings with gigi hadid brandings   unlined   high rise   skinny fit   elastic waistband   cotton blend</td>\n",
       "      <td>49.00</td>\n",
       "      <td>classics foundation gigi x leggings</td>\n",
       "    </tr>\n",
       "    <tr>\n",
       "      <th>4554</th>\n",
       "      <td>reebok</td>\n",
       "      <td>bottoms</td>\n",
       "      <td>black</td>\n",
       "      <td>best for training   logo printed sweatpants with ribbed cuff locks   unlined   mid rise   slim tapered fit   elastic waistband   drawstring fastening   2 side pockets   cotton blend</td>\n",
       "      <td>75.00</td>\n",
       "      <td>reebok training essential fleece sweatpants</td>\n",
       "    </tr>\n",
       "    <tr>\n",
       "      <th>4555</th>\n",
       "      <td>l'urv</td>\n",
       "      <td>bottoms</td>\n",
       "      <td>black</td>\n",
       "      <td>monochrome toned legging with brand details   mid rise   skinny fit   elasticised waistband   nylon blend</td>\n",
       "      <td>101.90</td>\n",
       "      <td>a-game logo 7/8 leggings</td>\n",
       "    </tr>\n",
       "    <tr>\n",
       "      <th>4556</th>\n",
       "      <td>lorna jane</td>\n",
       "      <td>bottoms</td>\n",
       "      <td>black</td>\n",
       "      <td>monochrome tights   high rise   slim fit   elasticised waist   1 zip pocket   moisture wicking   polyblend</td>\n",
       "      <td>110.99</td>\n",
       "      <td>new amy 7/8 tight</td>\n",
       "    </tr>\n",
       "  </tbody>\n",
       "</table>\n",
       "</div>"
      ],
      "text/plain": [
       "                brand category colour  \\\n",
       "4552  banana republic  bottoms   navy   \n",
       "4553           reebok  bottoms  black   \n",
       "4554           reebok  bottoms  black   \n",
       "4555            l'urv  bottoms  black   \n",
       "4556       lorna jane  bottoms  black   \n",
       "\n",
       "                                                                                                                                                                                     description  \\\n",
       "4552                                                                                              solid shade skinny pants   mid rise   skinny fit   front zip and hook fastening   cotton blend   \n",
       "4553                 in collaboration with gigi hadid   best for lifestyle   solid tone leggings with gigi hadid brandings   unlined   high rise   skinny fit   elastic waistband   cotton blend   \n",
       "4554    best for training   logo printed sweatpants with ribbed cuff locks   unlined   mid rise   slim tapered fit   elastic waistband   drawstring fastening   2 side pockets   cotton blend      \n",
       "4555                                                                                monochrome toned legging with brand details   mid rise   skinny fit   elasticised waistband   nylon blend      \n",
       "4556                                                                                  monochrome tights   high rise   slim fit   elasticised waist   1 zip pocket   moisture wicking   polyblend   \n",
       "\n",
       "       price                                        title  \n",
       "4552  121.90                                  sloan pants  \n",
       "4553   49.00          classics foundation gigi x leggings  \n",
       "4554   75.00  reebok training essential fleece sweatpants  \n",
       "4555  101.90                     a-game logo 7/8 leggings  \n",
       "4556  110.99                            new amy 7/8 tight  "
      ]
     },
     "execution_count": 667,
     "metadata": {},
     "output_type": "execute_result"
    }
   ],
   "source": [
    "df.head()"
   ]
  },
  {
   "cell_type": "code",
   "execution_count": 668,
   "metadata": {},
   "outputs": [],
   "source": [
    "df = df.reset_index(drop=True)"
   ]
  },
  {
   "cell_type": "code",
   "execution_count": 669,
   "metadata": {},
   "outputs": [],
   "source": [
    "df.to_csv(\"clean_dataset.csv\")"
   ]
  },
  {
   "cell_type": "markdown",
   "metadata": {},
   "source": [
    "## 2. Creating new features"
   ]
  },
  {
   "cell_type": "code",
   "execution_count": 63,
   "metadata": {},
   "outputs": [],
   "source": [
    "df = pd.read_csv(\"clean_dataset.csv\")"
   ]
  },
  {
   "cell_type": "code",
   "execution_count": 64,
   "metadata": {},
   "outputs": [],
   "source": [
    "df.drop(columns=['Unnamed: 0'], inplace=True)"
   ]
  },
  {
   "cell_type": "code",
   "execution_count": 65,
   "metadata": {},
   "outputs": [
    {
     "data": {
      "text/plain": [
       "Index(['brand', 'category', 'colour', 'description', 'price', 'title'], dtype='object')"
      ]
     },
     "execution_count": 65,
     "metadata": {},
     "output_type": "execute_result"
    }
   ],
   "source": [
    "df.columns"
   ]
  },
  {
   "cell_type": "code",
   "execution_count": 66,
   "metadata": {},
   "outputs": [],
   "source": [
    "NUM_BRANDS = 1000\n",
    "NUM_CATEGORIES = 50\n",
    "NAME_MIN_DF = 10\n",
    "MAX_FEATURES_ITEM_DESCRIPTION = 1000"
   ]
  },
  {
   "cell_type": "markdown",
   "metadata": {},
   "source": [
    "### 2.1 CVEC for 2 variables, and TVEC for 1"
   ]
  },
  {
   "cell_type": "code",
   "execution_count": 67,
   "metadata": {},
   "outputs": [],
   "source": [
    "cvec = CountVectorizer(min_df=NAME_MIN_DF)\n",
    "X_name = cvec.fit_transform(df['title'])\n",
    "X_name_df = pd.DataFrame(X_name.toarray(),columns=cvec.get_feature_names())\n",
    "cvec = CountVectorizer()\n",
    "X_category = cvec.fit_transform(df['category'])\n",
    "X_category_df = pd.DataFrame(X_category.toarray(),columns=cvec.get_feature_names())\n",
    "# cvec = CountVectorizer()\n",
    "# X_category = cvec.fit_transform(df['colour'])\n",
    "# X_category_df = pd.DataFrame(X_category.toarray(),columns=cvec.get_feature_names())"
   ]
  },
  {
   "cell_type": "code",
   "execution_count": 68,
   "metadata": {},
   "outputs": [],
   "source": [
    "tvec = TfidfVectorizer(max_features=MAX_FEATURES_ITEM_DESCRIPTION, ngram_range=(1, 3), stop_words='english')\n",
    "X_description = tvec.fit_transform(df['description'])\n",
    "X_description_df = pd.DataFrame(X_description.toarray(), columns = tvec.get_feature_names())"
   ]
  },
  {
   "cell_type": "code",
   "execution_count": 69,
   "metadata": {},
   "outputs": [],
   "source": [
    "# lb = LabelBinarizer(sparse_output=True)\n",
    "# X_brand = lb.fit_transform(df['brand'])\n",
    "# X_brand_df = pd.DataFrame(X_brand.toarray(),columns = lb.get_feature_names())"
   ]
  },
  {
   "cell_type": "code",
   "execution_count": 70,
   "metadata": {},
   "outputs": [],
   "source": [
    "dummies=pd.get_dummies(df['brand'])\n",
    "df = pd.concat([df['price'], dummies,X_name_df,X_category_df,X_description_df], axis=1)"
   ]
  },
  {
   "cell_type": "code",
   "execution_count": 71,
   "metadata": {},
   "outputs": [
    {
     "data": {
      "text/plain": [
       "(84033, 3682)"
      ]
     },
     "execution_count": 71,
     "metadata": {},
     "output_type": "execute_result"
    }
   ],
   "source": [
    "df.shape"
   ]
  },
  {
   "cell_type": "code",
   "execution_count": 72,
   "metadata": {},
   "outputs": [],
   "source": [
    "# df_merge = hstack((X_name,X_category, X_description, X_brand)).tocsr()"
   ]
  },
  {
   "cell_type": "code",
   "execution_count": 73,
   "metadata": {},
   "outputs": [],
   "source": [
    "# mask = np.array(np.clip(df_merge.getnnz(axis=0) - 1, 0, 1), dtype=bool)\n",
    "# df_merge = df_merge[:, mask]"
   ]
  },
  {
   "cell_type": "code",
   "execution_count": 74,
   "metadata": {},
   "outputs": [
    {
     "name": "stdout",
     "output_type": "stream",
     "text": [
      "(84033, 3682)\n",
      "(84033, 1595)\n"
     ]
    }
   ],
   "source": [
    "#shape before drop\n",
    "print(df.shape)\n",
    "\n",
    "#dropping columns that have less than 100 data points\n",
    "df.drop([col for col, val in df.sum().iteritems() if val < 50], axis=1, inplace=True)\n",
    "\n",
    "#dropping duplicated columns\n",
    "df = df.loc[:,~df.columns.duplicated()]\n",
    "\n",
    "#shape after dropping\n",
    "print(df.shape)"
   ]
  },
  {
   "cell_type": "code",
   "execution_count": 75,
   "metadata": {},
   "outputs": [],
   "source": [
    "features = [x for x in df.columns if (x!= 'price') ]"
   ]
  },
  {
   "cell_type": "code",
   "execution_count": 76,
   "metadata": {},
   "outputs": [],
   "source": [
    "X = df[features]\n",
    "y= df['price']"
   ]
  },
  {
   "cell_type": "code",
   "execution_count": 77,
   "metadata": {},
   "outputs": [],
   "source": [
    "X_train, X_test, y_train, y_test = train_test_split(X, y, random_state=42)"
   ]
  },
  {
   "cell_type": "code",
   "execution_count": 78,
   "metadata": {},
   "outputs": [],
   "source": [
    "from sklearn.preprocessing import StandardScaler\n",
    "# Instantiate\n",
    "scaler = StandardScaler()\n",
    "# fit_transform\n",
    "Xs_train = scaler.fit_transform(X_train)\n",
    "# transform\n",
    "Xs_test = scaler.transform(X_test)"
   ]
  },
  {
   "cell_type": "code",
   "execution_count": 79,
   "metadata": {},
   "outputs": [
    {
     "data": {
      "text/html": [
       "<div>\n",
       "<style scoped>\n",
       "    .dataframe tbody tr th:only-of-type {\n",
       "        vertical-align: middle;\n",
       "    }\n",
       "\n",
       "    .dataframe tbody tr th {\n",
       "        vertical-align: top;\n",
       "    }\n",
       "\n",
       "    .dataframe thead th {\n",
       "        text-align: right;\n",
       "    }\n",
       "</style>\n",
       "<table border=\"1\" class=\"dataframe\">\n",
       "  <thead>\n",
       "    <tr style=\"text-align: right;\">\n",
       "      <th></th>\n",
       "      <th>data type</th>\n",
       "      <th>dataset</th>\n",
       "      <th>model</th>\n",
       "      <th>name</th>\n",
       "      <th>r2 score</th>\n",
       "      <th>xval score</th>\n",
       "    </tr>\n",
       "  </thead>\n",
       "  <tbody>\n",
       "    <tr>\n",
       "      <th>0</th>\n",
       "      <td>raw</td>\n",
       "      <td>train</td>\n",
       "      <td>LinearRegression(copy_X=True, fit_intercept=True, n_jobs=None, normalize=False)</td>\n",
       "      <td>Linear Regression</td>\n",
       "      <td>7.900000e-01</td>\n",
       "      <td>-1.691519e+18</td>\n",
       "    </tr>\n",
       "    <tr>\n",
       "      <th>1</th>\n",
       "      <td>raw</td>\n",
       "      <td>test</td>\n",
       "      <td>LinearRegression(copy_X=True, fit_intercept=True, n_jobs=None, normalize=False)</td>\n",
       "      <td>Linear Regression</td>\n",
       "      <td>-1.098166e+19</td>\n",
       "      <td>-2.299599e+20</td>\n",
       "    </tr>\n",
       "    <tr>\n",
       "      <th>2</th>\n",
       "      <td>scaled</td>\n",
       "      <td>train</td>\n",
       "      <td>Lasso(alpha=1.0, copy_X=True, fit_intercept=True, max_iter=1000,\\n      normalize=False, positive=False, precompute=False, random_state=None,\\n      selection='cyclic', tol=0.0001, warm_start=False)</td>\n",
       "      <td>Lasso</td>\n",
       "      <td>6.790749e-01</td>\n",
       "      <td>6.757787e-01</td>\n",
       "    </tr>\n",
       "    <tr>\n",
       "      <th>3</th>\n",
       "      <td>scaled</td>\n",
       "      <td>test</td>\n",
       "      <td>Lasso(alpha=1.0, copy_X=True, fit_intercept=True, max_iter=1000,\\n      normalize=False, positive=False, precompute=False, random_state=None,\\n      selection='cyclic', tol=0.0001, warm_start=False)</td>\n",
       "      <td>Lasso</td>\n",
       "      <td>6.749611e-01</td>\n",
       "      <td>6.716089e-01</td>\n",
       "    </tr>\n",
       "    <tr>\n",
       "      <th>4</th>\n",
       "      <td>scaled</td>\n",
       "      <td>train</td>\n",
       "      <td>Ridge(alpha=1.0, copy_X=True, fit_intercept=True, max_iter=None,\\n      normalize=False, random_state=None, solver='auto', tol=0.001)</td>\n",
       "      <td>Ridge</td>\n",
       "      <td>7.877599e-01</td>\n",
       "      <td>7.757265e-01</td>\n",
       "    </tr>\n",
       "    <tr>\n",
       "      <th>5</th>\n",
       "      <td>scaled</td>\n",
       "      <td>test</td>\n",
       "      <td>Ridge(alpha=1.0, copy_X=True, fit_intercept=True, max_iter=None,\\n      normalize=False, random_state=None, solver='auto', tol=0.001)</td>\n",
       "      <td>Ridge</td>\n",
       "      <td>7.792828e-01</td>\n",
       "      <td>7.604168e-01</td>\n",
       "    </tr>\n",
       "    <tr>\n",
       "      <th>6</th>\n",
       "      <td>scaled</td>\n",
       "      <td>train</td>\n",
       "      <td>ElasticNet(alpha=1.0, copy_X=True, fit_intercept=True, l1_ratio=0.5,\\n           max_iter=1000, normalize=False, positive=False, precompute=False,\\n           random_state=None, selection='cyclic', tol=0.0001, warm_start=False)</td>\n",
       "      <td>Elasticnet</td>\n",
       "      <td>6.528854e-01</td>\n",
       "      <td>6.486054e-01</td>\n",
       "    </tr>\n",
       "    <tr>\n",
       "      <th>7</th>\n",
       "      <td>scaled</td>\n",
       "      <td>test</td>\n",
       "      <td>ElasticNet(alpha=1.0, copy_X=True, fit_intercept=True, l1_ratio=0.5,\\n           max_iter=1000, normalize=False, positive=False, precompute=False,\\n           random_state=None, selection='cyclic', tol=0.0001, warm_start=False)</td>\n",
       "      <td>Elasticnet</td>\n",
       "      <td>6.458590e-01</td>\n",
       "      <td>6.432178e-01</td>\n",
       "    </tr>\n",
       "  </tbody>\n",
       "</table>\n",
       "</div>"
      ],
      "text/plain": [
       "  data type dataset  \\\n",
       "0       raw   train   \n",
       "1       raw    test   \n",
       "2    scaled   train   \n",
       "3    scaled    test   \n",
       "4    scaled   train   \n",
       "5    scaled    test   \n",
       "6    scaled   train   \n",
       "7    scaled    test   \n",
       "\n",
       "                                                                                                                                                                                                                                 model  \\\n",
       "0                                                                                                                                                      LinearRegression(copy_X=True, fit_intercept=True, n_jobs=None, normalize=False)   \n",
       "1                                                                                                                                                      LinearRegression(copy_X=True, fit_intercept=True, n_jobs=None, normalize=False)   \n",
       "2                               Lasso(alpha=1.0, copy_X=True, fit_intercept=True, max_iter=1000,\\n      normalize=False, positive=False, precompute=False, random_state=None,\\n      selection='cyclic', tol=0.0001, warm_start=False)   \n",
       "3                               Lasso(alpha=1.0, copy_X=True, fit_intercept=True, max_iter=1000,\\n      normalize=False, positive=False, precompute=False, random_state=None,\\n      selection='cyclic', tol=0.0001, warm_start=False)   \n",
       "4                                                                                                Ridge(alpha=1.0, copy_X=True, fit_intercept=True, max_iter=None,\\n      normalize=False, random_state=None, solver='auto', tol=0.001)   \n",
       "5                                                                                                Ridge(alpha=1.0, copy_X=True, fit_intercept=True, max_iter=None,\\n      normalize=False, random_state=None, solver='auto', tol=0.001)   \n",
       "6  ElasticNet(alpha=1.0, copy_X=True, fit_intercept=True, l1_ratio=0.5,\\n           max_iter=1000, normalize=False, positive=False, precompute=False,\\n           random_state=None, selection='cyclic', tol=0.0001, warm_start=False)   \n",
       "7  ElasticNet(alpha=1.0, copy_X=True, fit_intercept=True, l1_ratio=0.5,\\n           max_iter=1000, normalize=False, positive=False, precompute=False,\\n           random_state=None, selection='cyclic', tol=0.0001, warm_start=False)   \n",
       "\n",
       "                name      r2 score    xval score  \n",
       "0  Linear Regression  7.900000e-01 -1.691519e+18  \n",
       "1  Linear Regression -1.098166e+19 -2.299599e+20  \n",
       "2              Lasso  6.790749e-01  6.757787e-01  \n",
       "3              Lasso  6.749611e-01  6.716089e-01  \n",
       "4              Ridge  7.877599e-01  7.757265e-01  \n",
       "5              Ridge  7.792828e-01  7.604168e-01  \n",
       "6         Elasticnet  6.528854e-01  6.486054e-01  \n",
       "7         Elasticnet  6.458590e-01  6.432178e-01  "
      ]
     },
     "execution_count": 79,
     "metadata": {},
     "output_type": "execute_result"
    }
   ],
   "source": [
    "#Linear Model\n",
    "\n",
    "lr = LinearRegression()\n",
    "lr.fit(X_train,y_train)\n",
    "lr_train_score = lr.score(X_train,y_train)\n",
    "lr_test_score = lr.score(X_test, y_test)\n",
    "\n",
    "lr_train_cvscore = cross_val_score(lr, X_train,y_train, cv=3).mean()\n",
    "lr_test_cvscore = cross_val_score(lr, X_test,y_test, cv=3).mean()\n",
    "results = list()\n",
    "result_1 = {'name':'Linear Regression','dataset' : 'train','data type': 'raw','model': lr, \n",
    "            'r2 score': round(lr_train_score,2), 'xval score': round(lr_train_cvscore,2)}\n",
    "results.append(result_1)\n",
    "result_2 = {'name':'Linear Regression','dataset' : 'test','data type': 'raw','model': lr,\n",
    "            'r2 score': round(lr_test_score,2), 'xval score': round(lr_test_cvscore,2)\n",
    "            }\n",
    "results.append(result_2)\n",
    "\n",
    "#Lasso\n",
    "lasso_xs = Lasso()\n",
    "lasso_xs.fit(Xs_train, y_train)\n",
    "lasso_train_score_scaled = lasso_xs.score(Xs_train,y_train)\n",
    "lasso_test_score_scaled = lasso_xs.score(Xs_test, y_test)\n",
    "\n",
    "lasso_train_cvscore_scaled = cross_val_score(lasso_xs, Xs_train,y_train, cv=10).mean()\n",
    "lasso_test_cvscore_scaled = cross_val_score(lasso_xs, Xs_test,y_test, cv=10).mean()\n",
    "\n",
    "results.append({'name':'Lasso','dataset' : 'train','data type': 'scaled',\n",
    "                'model': lasso_xs, 'r2 score': lasso_train_score_scaled,'xval score': lasso_train_cvscore_scaled})\n",
    "results.append({'name':'Lasso','dataset' : 'test','data type': 'scaled',\n",
    "                'model': lasso_xs,'r2 score': lasso_test_score_scaled,'xval score': lasso_test_cvscore_scaled})\n",
    "\n",
    "#Ridge\n",
    "ridge_sc = Ridge()\n",
    "ridge_sc.fit(Xs_train, y_train)\n",
    "ridge_train_score_scaled = ridge_sc.score(Xs_train,y_train)\n",
    "ridge_test_score_scaled= ridge_sc.score(Xs_test, y_test)\n",
    "\n",
    "ridge_train_cvscore_scaled = cross_val_score(ridge_sc, Xs_train,y_train, cv=10).mean()\n",
    "ridge_test_cvscore_scaled = cross_val_score(ridge_sc, Xs_test,y_test, cv=10).mean()\n",
    "\n",
    "\n",
    "results.append({'name':'Ridge','dataset' : 'train','data type': 'scaled',\n",
    "                'model': ridge_sc, 'r2 score': ridge_train_score_scaled,'xval score': ridge_train_cvscore_scaled})\n",
    "results.append({'name':'Ridge','dataset' : 'test','data type': 'scaled',\n",
    "                'model': ridge_sc,'r2 score': ridge_test_score_scaled, 'xval score': ridge_test_cvscore_scaled})\n",
    "\n",
    "elasticnet_sc = ElasticNet()\n",
    "elasticnet_sc.fit(Xs_train, y_train)\n",
    "elasticnet_train_score_scaled = elasticnet_sc.score(Xs_train,y_train)\n",
    "elasticnet_test_score_scaled= elasticnet_sc.score(Xs_test, y_test)\n",
    "\n",
    "elasticnet_train_cvscore_scaled = cross_val_score(elasticnet_sc, Xs_train,y_train, cv=10).mean()\n",
    "elasticnet_test_cvscore_scaled = cross_val_score(elasticnet_sc, Xs_test,y_test, cv=10).mean()\n",
    "\n",
    "\n",
    "results.append({'name':'Elasticnet','dataset' : 'train','data type': 'scaled',\n",
    "                'model': elasticnet_sc, 'r2 score': elasticnet_train_score_scaled,'xval score': elasticnet_train_cvscore_scaled})\n",
    "results.append({'name':'Elasticnet','dataset' : 'test','data type': 'scaled',\n",
    "                'model': elasticnet_sc,'r2 score': elasticnet_test_score_scaled, 'xval score': elasticnet_test_cvscore_scaled})\n",
    "pd.DataFrame(results)"
   ]
  },
  {
   "cell_type": "markdown",
   "metadata": {},
   "source": [
    "The Ridge model seems to have performed the best however scores are still quite low - although the model is not overfitted."
   ]
  },
  {
   "cell_type": "code",
   "execution_count": 80,
   "metadata": {},
   "outputs": [
    {
     "data": {
      "text/html": [
       "<div>\n",
       "<style scoped>\n",
       "    .dataframe tbody tr th:only-of-type {\n",
       "        vertical-align: middle;\n",
       "    }\n",
       "\n",
       "    .dataframe tbody tr th {\n",
       "        vertical-align: top;\n",
       "    }\n",
       "\n",
       "    .dataframe thead th {\n",
       "        text-align: right;\n",
       "    }\n",
       "</style>\n",
       "<table border=\"1\" class=\"dataframe\">\n",
       "  <thead>\n",
       "    <tr style=\"text-align: right;\">\n",
       "      <th></th>\n",
       "      <th>variable</th>\n",
       "      <th>ridge_coef</th>\n",
       "      <th>abs_ridge_coef</th>\n",
       "    </tr>\n",
       "  </thead>\n",
       "  <tbody>\n",
       "    <tr>\n",
       "      <th>1368</th>\n",
       "      <td>responsible edit</td>\n",
       "      <td>-50.759733</td>\n",
       "      <td>50.759733</td>\n",
       "    </tr>\n",
       "    <tr>\n",
       "      <th>1367</th>\n",
       "      <td>responsible</td>\n",
       "      <td>49.899241</td>\n",
       "      <td>49.899241</td>\n",
       "    </tr>\n",
       "    <tr>\n",
       "      <th>1462</th>\n",
       "      <td>slouchy silhouette</td>\n",
       "      <td>43.160441</td>\n",
       "      <td>43.160441</td>\n",
       "    </tr>\n",
       "    <tr>\n",
       "      <th>1116</th>\n",
       "      <td>fit slouchy silhouette</td>\n",
       "      <td>-42.966865</td>\n",
       "      <td>42.966865</td>\n",
       "    </tr>\n",
       "    <tr>\n",
       "      <th>59</th>\n",
       "      <td>h&amp;m</td>\n",
       "      <td>-24.725437</td>\n",
       "      <td>24.725437</td>\n",
       "    </tr>\n",
       "    <tr>\n",
       "      <th>2</th>\n",
       "      <td>a-in girls</td>\n",
       "      <td>21.892652</td>\n",
       "      <td>21.892652</td>\n",
       "    </tr>\n",
       "    <tr>\n",
       "      <th>165</th>\n",
       "      <td>zalora</td>\n",
       "      <td>-18.897537</td>\n",
       "      <td>18.897537</td>\n",
       "    </tr>\n",
       "    <tr>\n",
       "      <th>650</th>\n",
       "      <td>revolve</td>\n",
       "      <td>16.472326</td>\n",
       "      <td>16.472326</td>\n",
       "    </tr>\n",
       "    <tr>\n",
       "      <th>134</th>\n",
       "      <td>something borrowed</td>\n",
       "      <td>-14.746480</td>\n",
       "      <td>14.746480</td>\n",
       "    </tr>\n",
       "    <tr>\n",
       "      <th>161</th>\n",
       "      <td>yg fitness</td>\n",
       "      <td>13.874296</td>\n",
       "      <td>13.874296</td>\n",
       "    </tr>\n",
       "    <tr>\n",
       "      <th>167</th>\n",
       "      <td>zalora basics</td>\n",
       "      <td>-13.768614</td>\n",
       "      <td>13.768614</td>\n",
       "    </tr>\n",
       "    <tr>\n",
       "      <th>1429</th>\n",
       "      <td>size larger</td>\n",
       "      <td>-12.518351</td>\n",
       "      <td>12.518351</td>\n",
       "    </tr>\n",
       "    <tr>\n",
       "      <th>168</th>\n",
       "      <td>zara</td>\n",
       "      <td>-11.771681</td>\n",
       "      <td>11.771681</td>\n",
       "    </tr>\n",
       "    <tr>\n",
       "      <th>1399</th>\n",
       "      <td>runs size</td>\n",
       "      <td>-11.190412</td>\n",
       "      <td>11.190412</td>\n",
       "    </tr>\n",
       "    <tr>\n",
       "      <th>1400</th>\n",
       "      <td>runs size larger</td>\n",
       "      <td>11.163984</td>\n",
       "      <td>11.163984</td>\n",
       "    </tr>\n",
       "    <tr>\n",
       "      <th>129</th>\n",
       "      <td>runway bandits</td>\n",
       "      <td>-11.092237</td>\n",
       "      <td>11.092237</td>\n",
       "    </tr>\n",
       "    <tr>\n",
       "      <th>85</th>\n",
       "      <td>love bonito</td>\n",
       "      <td>-11.087198</td>\n",
       "      <td>11.087198</td>\n",
       "    </tr>\n",
       "    <tr>\n",
       "      <th>116</th>\n",
       "      <td>pomelo</td>\n",
       "      <td>-10.370375</td>\n",
       "      <td>10.370375</td>\n",
       "    </tr>\n",
       "    <tr>\n",
       "      <th>328</th>\n",
       "      <td>design</td>\n",
       "      <td>-9.873054</td>\n",
       "      <td>9.873054</td>\n",
       "    </tr>\n",
       "    <tr>\n",
       "      <th>138</th>\n",
       "      <td>superdown</td>\n",
       "      <td>-9.832396</td>\n",
       "      <td>9.832396</td>\n",
       "    </tr>\n",
       "    <tr>\n",
       "      <th>69</th>\n",
       "      <td>its me</td>\n",
       "      <td>9.482724</td>\n",
       "      <td>9.482724</td>\n",
       "    </tr>\n",
       "    <tr>\n",
       "      <th>1405</th>\n",
       "      <td>select</td>\n",
       "      <td>-9.088043</td>\n",
       "      <td>9.088043</td>\n",
       "    </tr>\n",
       "    <tr>\n",
       "      <th>1200</th>\n",
       "      <td>korean fashion hot</td>\n",
       "      <td>-8.203234</td>\n",
       "      <td>8.203234</td>\n",
       "    </tr>\n",
       "    <tr>\n",
       "      <th>1439</th>\n",
       "      <td>sizing runs size</td>\n",
       "      <td>8.102613</td>\n",
       "      <td>8.102613</td>\n",
       "    </tr>\n",
       "    <tr>\n",
       "      <th>32</th>\n",
       "      <td>cotton on</td>\n",
       "      <td>-7.510775</td>\n",
       "      <td>7.510775</td>\n",
       "    </tr>\n",
       "    <tr>\n",
       "      <th>1378</th>\n",
       "      <td>rise regular</td>\n",
       "      <td>-7.439335</td>\n",
       "      <td>7.439335</td>\n",
       "    </tr>\n",
       "    <tr>\n",
       "      <th>92</th>\n",
       "      <td>mango</td>\n",
       "      <td>-7.175537</td>\n",
       "      <td>7.175537</td>\n",
       "    </tr>\n",
       "    <tr>\n",
       "      <th>49</th>\n",
       "      <td>forever 21</td>\n",
       "      <td>-7.028029</td>\n",
       "      <td>7.028029</td>\n",
       "    </tr>\n",
       "    <tr>\n",
       "      <th>479</th>\n",
       "      <td>leather</td>\n",
       "      <td>6.779532</td>\n",
       "      <td>6.779532</td>\n",
       "    </tr>\n",
       "    <tr>\n",
       "      <th>1192</th>\n",
       "      <td>just select usual</td>\n",
       "      <td>-6.520265</td>\n",
       "      <td>6.520265</td>\n",
       "    </tr>\n",
       "    <tr>\n",
       "      <th>...</th>\n",
       "      <td>...</td>\n",
       "      <td>...</td>\n",
       "      <td>...</td>\n",
       "    </tr>\n",
       "    <tr>\n",
       "      <th>908</th>\n",
       "      <td>add bag potential</td>\n",
       "      <td>3.920703</td>\n",
       "      <td>3.920703</td>\n",
       "    </tr>\n",
       "    <tr>\n",
       "      <th>916</th>\n",
       "      <td>bag potential</td>\n",
       "      <td>3.920703</td>\n",
       "      <td>3.920703</td>\n",
       "    </tr>\n",
       "    <tr>\n",
       "      <th>74</th>\n",
       "      <td>kodz</td>\n",
       "      <td>-3.910438</td>\n",
       "      <td>3.910438</td>\n",
       "    </tr>\n",
       "    <tr>\n",
       "      <th>1282</th>\n",
       "      <td>neckline slim fit</td>\n",
       "      <td>3.904790</td>\n",
       "      <td>3.904790</td>\n",
       "    </tr>\n",
       "    <tr>\n",
       "      <th>130</th>\n",
       "      <td>scotch &amp; soda</td>\n",
       "      <td>3.903740</td>\n",
       "      <td>3.903740</td>\n",
       "    </tr>\n",
       "    <tr>\n",
       "      <th>1191</th>\n",
       "      <td>just select</td>\n",
       "      <td>3.898656</td>\n",
       "      <td>3.898656</td>\n",
       "    </tr>\n",
       "    <tr>\n",
       "      <th>907</th>\n",
       "      <td>add bag</td>\n",
       "      <td>-3.890863</td>\n",
       "      <td>3.890863</td>\n",
       "    </tr>\n",
       "    <tr>\n",
       "      <th>33</th>\n",
       "      <td>cotton on body</td>\n",
       "      <td>-3.801251</td>\n",
       "      <td>3.801251</td>\n",
       "    </tr>\n",
       "    <tr>\n",
       "      <th>1376</th>\n",
       "      <td>rise concealed</td>\n",
       "      <td>-3.782809</td>\n",
       "      <td>3.782809</td>\n",
       "    </tr>\n",
       "    <tr>\n",
       "      <th>1070</th>\n",
       "      <td>fastening pocket style</td>\n",
       "      <td>-3.782304</td>\n",
       "      <td>3.782304</td>\n",
       "    </tr>\n",
       "    <tr>\n",
       "      <th>8</th>\n",
       "      <td>asos design</td>\n",
       "      <td>-3.721025</td>\n",
       "      <td>3.721025</td>\n",
       "    </tr>\n",
       "    <tr>\n",
       "      <th>1213</th>\n",
       "      <td>latest korean fashion</td>\n",
       "      <td>3.647779</td>\n",
       "      <td>3.647779</td>\n",
       "    </tr>\n",
       "    <tr>\n",
       "      <th>1212</th>\n",
       "      <td>latest korean</td>\n",
       "      <td>3.647779</td>\n",
       "      <td>3.647779</td>\n",
       "    </tr>\n",
       "    <tr>\n",
       "      <th>1001</th>\n",
       "      <td>depending</td>\n",
       "      <td>-3.597191</td>\n",
       "      <td>3.597191</td>\n",
       "    </tr>\n",
       "    <tr>\n",
       "      <th>1256</th>\n",
       "      <td>mid rise regular</td>\n",
       "      <td>3.593529</td>\n",
       "      <td>3.593529</td>\n",
       "    </tr>\n",
       "    <tr>\n",
       "      <th>1228</th>\n",
       "      <td>lined regular</td>\n",
       "      <td>-3.563251</td>\n",
       "      <td>3.563251</td>\n",
       "    </tr>\n",
       "    <tr>\n",
       "      <th>265</th>\n",
       "      <td>cashmere</td>\n",
       "      <td>3.556180</td>\n",
       "      <td>3.556180</td>\n",
       "    </tr>\n",
       "    <tr>\n",
       "      <th>135</th>\n",
       "      <td>sophialuv</td>\n",
       "      <td>-3.534967</td>\n",
       "      <td>3.534967</td>\n",
       "    </tr>\n",
       "    <tr>\n",
       "      <th>1158</th>\n",
       "      <td>high rise regular</td>\n",
       "      <td>3.533325</td>\n",
       "      <td>3.533325</td>\n",
       "    </tr>\n",
       "    <tr>\n",
       "      <th>1406</th>\n",
       "      <td>select usual</td>\n",
       "      <td>3.528761</td>\n",
       "      <td>3.528761</td>\n",
       "    </tr>\n",
       "    <tr>\n",
       "      <th>1407</th>\n",
       "      <td>select usual size</td>\n",
       "      <td>3.528761</td>\n",
       "      <td>3.528761</td>\n",
       "    </tr>\n",
       "    <tr>\n",
       "      <th>1204</th>\n",
       "      <td>larger</td>\n",
       "      <td>3.525049</td>\n",
       "      <td>3.525049</td>\n",
       "    </tr>\n",
       "    <tr>\n",
       "      <th>35</th>\n",
       "      <td>defacto</td>\n",
       "      <td>-3.469665</td>\n",
       "      <td>3.469665</td>\n",
       "    </tr>\n",
       "    <tr>\n",
       "      <th>57</th>\n",
       "      <td>grlfrnd</td>\n",
       "      <td>3.463412</td>\n",
       "      <td>3.463412</td>\n",
       "    </tr>\n",
       "    <tr>\n",
       "      <th>146</th>\n",
       "      <td>tularosa</td>\n",
       "      <td>3.447625</td>\n",
       "      <td>3.447625</td>\n",
       "    </tr>\n",
       "    <tr>\n",
       "      <th>83</th>\n",
       "      <td>london rag</td>\n",
       "      <td>-3.409930</td>\n",
       "      <td>3.409930</td>\n",
       "    </tr>\n",
       "    <tr>\n",
       "      <th>86</th>\n",
       "      <td>lovers + friends</td>\n",
       "      <td>3.405947</td>\n",
       "      <td>3.405947</td>\n",
       "    </tr>\n",
       "    <tr>\n",
       "      <th>142</th>\n",
       "      <td>tokichoi</td>\n",
       "      <td>-3.402434</td>\n",
       "      <td>3.402434</td>\n",
       "    </tr>\n",
       "    <tr>\n",
       "      <th>224</th>\n",
       "      <td>bodysuit</td>\n",
       "      <td>-3.395661</td>\n",
       "      <td>3.395661</td>\n",
       "    </tr>\n",
       "    <tr>\n",
       "      <th>21</th>\n",
       "      <td>brave soul</td>\n",
       "      <td>-3.362554</td>\n",
       "      <td>3.362554</td>\n",
       "    </tr>\n",
       "  </tbody>\n",
       "</table>\n",
       "<p>100 rows × 3 columns</p>\n",
       "</div>"
      ],
      "text/plain": [
       "                    variable  ridge_coef  abs_ridge_coef\n",
       "1368        responsible edit  -50.759733       50.759733\n",
       "1367             responsible   49.899241       49.899241\n",
       "1462      slouchy silhouette   43.160441       43.160441\n",
       "1116  fit slouchy silhouette  -42.966865       42.966865\n",
       "59                       h&m  -24.725437       24.725437\n",
       "2                 a-in girls   21.892652       21.892652\n",
       "165                   zalora  -18.897537       18.897537\n",
       "650                  revolve   16.472326       16.472326\n",
       "134       something borrowed  -14.746480       14.746480\n",
       "161               yg fitness   13.874296       13.874296\n",
       "167            zalora basics  -13.768614       13.768614\n",
       "1429             size larger  -12.518351       12.518351\n",
       "168                     zara  -11.771681       11.771681\n",
       "1399               runs size  -11.190412       11.190412\n",
       "1400        runs size larger   11.163984       11.163984\n",
       "129           runway bandits  -11.092237       11.092237\n",
       "85               love bonito  -11.087198       11.087198\n",
       "116                   pomelo  -10.370375       10.370375\n",
       "328                   design   -9.873054        9.873054\n",
       "138                superdown   -9.832396        9.832396\n",
       "69                    its me    9.482724        9.482724\n",
       "1405                  select   -9.088043        9.088043\n",
       "1200      korean fashion hot   -8.203234        8.203234\n",
       "1439        sizing runs size    8.102613        8.102613\n",
       "32                 cotton on   -7.510775        7.510775\n",
       "1378            rise regular   -7.439335        7.439335\n",
       "92                     mango   -7.175537        7.175537\n",
       "49                forever 21   -7.028029        7.028029\n",
       "479                  leather    6.779532        6.779532\n",
       "1192       just select usual   -6.520265        6.520265\n",
       "...                      ...         ...             ...\n",
       "908        add bag potential    3.920703        3.920703\n",
       "916            bag potential    3.920703        3.920703\n",
       "74                      kodz   -3.910438        3.910438\n",
       "1282       neckline slim fit    3.904790        3.904790\n",
       "130            scotch & soda    3.903740        3.903740\n",
       "1191             just select    3.898656        3.898656\n",
       "907                  add bag   -3.890863        3.890863\n",
       "33            cotton on body   -3.801251        3.801251\n",
       "1376          rise concealed   -3.782809        3.782809\n",
       "1070  fastening pocket style   -3.782304        3.782304\n",
       "8                asos design   -3.721025        3.721025\n",
       "1213   latest korean fashion    3.647779        3.647779\n",
       "1212           latest korean    3.647779        3.647779\n",
       "1001               depending   -3.597191        3.597191\n",
       "1256        mid rise regular    3.593529        3.593529\n",
       "1228           lined regular   -3.563251        3.563251\n",
       "265                 cashmere    3.556180        3.556180\n",
       "135                sophialuv   -3.534967        3.534967\n",
       "1158       high rise regular    3.533325        3.533325\n",
       "1406            select usual    3.528761        3.528761\n",
       "1407       select usual size    3.528761        3.528761\n",
       "1204                  larger    3.525049        3.525049\n",
       "35                   defacto   -3.469665        3.469665\n",
       "57                   grlfrnd    3.463412        3.463412\n",
       "146                 tularosa    3.447625        3.447625\n",
       "83                london rag   -3.409930        3.409930\n",
       "86          lovers + friends    3.405947        3.405947\n",
       "142                 tokichoi   -3.402434        3.402434\n",
       "224                 bodysuit   -3.395661        3.395661\n",
       "21                brave soul   -3.362554        3.362554\n",
       "\n",
       "[100 rows x 3 columns]"
      ]
     },
     "execution_count": 80,
     "metadata": {},
     "output_type": "execute_result"
    }
   ],
   "source": [
    "ridge_coefs = pd.DataFrame({'variable':X.columns,\n",
    "                            'ridge_coef':ridge_sc.coef_,\n",
    "                            'abs_ridge_coef':np.abs(ridge_sc.coef_)})\n",
    "\n",
    "ridge_coefs.sort_values('abs_ridge_coef', inplace=True, ascending=False)\n",
    "\n",
    "ridge_coefs.head(100)"
   ]
  },
  {
   "cell_type": "markdown",
   "metadata": {},
   "source": [
    "### 2.2 CVEC for 1 variable, TVEC for other 2 variables"
   ]
  },
  {
   "cell_type": "code",
   "execution_count": 212,
   "metadata": {},
   "outputs": [],
   "source": [
    "df = pd.read_csv(\"clean_dataset.csv\")"
   ]
  },
  {
   "cell_type": "code",
   "execution_count": 213,
   "metadata": {},
   "outputs": [],
   "source": [
    "df.drop(columns=['Unnamed: 0'], inplace=True)"
   ]
  },
  {
   "cell_type": "code",
   "execution_count": 214,
   "metadata": {},
   "outputs": [
    {
     "data": {
      "text/plain": [
       "Index(['brand', 'category', 'colour', 'description', 'price', 'title'], dtype='object')"
      ]
     },
     "execution_count": 214,
     "metadata": {},
     "output_type": "execute_result"
    }
   ],
   "source": [
    "df.columns"
   ]
  },
  {
   "cell_type": "code",
   "execution_count": 215,
   "metadata": {},
   "outputs": [],
   "source": [
    "NUM_BRANDS = 1000\n",
    "NUM_CATEGORIES = 50\n",
    "NAME_MIN_DF = 1000\n",
    "MAX_FEATURES_ITEM_DESCRIPTION = 1000"
   ]
  },
  {
   "cell_type": "code",
   "execution_count": 216,
   "metadata": {},
   "outputs": [],
   "source": [
    "# cvec = CountVectorizer(min_df=NAME_MIN_DF)\n",
    "# X_name = cvec.fit_transform(df['title'])\n",
    "# X_name_df = pd.DataFrame(X_name.toarray(),columns=cvec.get_feature_names())\n",
    "cvec = CountVectorizer()\n",
    "X_category = cvec.fit_transform(df['category'])\n",
    "X_category_df = pd.DataFrame(X_category.toarray(),columns=cvec.get_feature_names())\n",
    "# cvec = CountVectorizer()\n",
    "# X_category = cvec.fit_transform(df['colour'])\n",
    "# X_category_df = pd.DataFrame(X_category.toarray(),columns=cvec.get_feature_names())"
   ]
  },
  {
   "cell_type": "code",
   "execution_count": 217,
   "metadata": {},
   "outputs": [],
   "source": [
    "tvec = TfidfVectorizer(max_features=MAX_FEATURES_ITEM_DESCRIPTION, ngram_range=(1, 3), stop_words='english')\n",
    "X_description = tvec.fit_transform(df['description'])\n",
    "X_description_df = pd.DataFrame(X_description.toarray(), columns = tvec.get_feature_names())\n",
    "tvec = TfidfVectorizer(max_features=NAME_MIN_DF, ngram_range=(1, 3), stop_words='english')\n",
    "X_title = tvec.fit_transform(df['title'])\n",
    "X_title_df = pd.DataFrame(X_title.toarray(), columns = tvec.get_feature_names())"
   ]
  },
  {
   "cell_type": "code",
   "execution_count": 218,
   "metadata": {},
   "outputs": [],
   "source": [
    "# lb = LabelBinarizer(sparse_output=True)\n",
    "# X_brand = lb.fit_transform(df['brand'])\n",
    "# X_brand_df = pd.DataFrame(X_brand.toarray(),columns = lb.get_feature_names())"
   ]
  },
  {
   "cell_type": "code",
   "execution_count": 219,
   "metadata": {},
   "outputs": [],
   "source": [
    "dummies=pd.get_dummies(df['brand'])\n",
    "df = pd.concat([df['price'], dummies,X_title_df,X_category_df,X_description_df], axis=1)"
   ]
  },
  {
   "cell_type": "code",
   "execution_count": 220,
   "metadata": {},
   "outputs": [
    {
     "data": {
      "text/plain": [
       "(77304, 2655)"
      ]
     },
     "execution_count": 220,
     "metadata": {},
     "output_type": "execute_result"
    }
   ],
   "source": [
    "df.shape"
   ]
  },
  {
   "cell_type": "code",
   "execution_count": 221,
   "metadata": {},
   "outputs": [],
   "source": [
    "# df_merge = hstack((X_name,X_category, X_description, X_brand)).tocsr()"
   ]
  },
  {
   "cell_type": "code",
   "execution_count": 222,
   "metadata": {},
   "outputs": [],
   "source": [
    "# mask = np.array(np.clip(df_merge.getnnz(axis=0) - 1, 0, 1), dtype=bool)\n",
    "# df_merge = df_merge[:, mask]"
   ]
  },
  {
   "cell_type": "code",
   "execution_count": 223,
   "metadata": {},
   "outputs": [
    {
     "name": "stdout",
     "output_type": "stream",
     "text": [
      "(77304, 2655)\n",
      "(77304, 1596)\n"
     ]
    }
   ],
   "source": [
    "#shape before drop\n",
    "print(df.shape)\n",
    "\n",
    "#dropping columns that have less than 100 data points\n",
    "df.drop([col for col, val in df.sum().iteritems() if val < 50], axis=1, inplace=True)\n",
    "\n",
    "#dropping duplicated columns\n",
    "df = df.loc[:,~df.columns.duplicated()]\n",
    "\n",
    "#shape after dropping\n",
    "print(df.shape)"
   ]
  },
  {
   "cell_type": "code",
   "execution_count": 224,
   "metadata": {},
   "outputs": [],
   "source": [
    "features = [x for x in df.columns if (x!= 'price') ]"
   ]
  },
  {
   "cell_type": "code",
   "execution_count": 225,
   "metadata": {},
   "outputs": [],
   "source": [
    "X = df[features]\n",
    "y= df['price']"
   ]
  },
  {
   "cell_type": "code",
   "execution_count": 226,
   "metadata": {},
   "outputs": [],
   "source": [
    "X_train, X_test, y_train, y_test = train_test_split(X, y, random_state=42)"
   ]
  },
  {
   "cell_type": "code",
   "execution_count": 227,
   "metadata": {},
   "outputs": [],
   "source": [
    "from sklearn.preprocessing import StandardScaler\n",
    "# Instantiate\n",
    "scaler = StandardScaler()\n",
    "# fit_transform\n",
    "Xs_train = scaler.fit_transform(X_train)\n",
    "# transform\n",
    "Xs_test = scaler.transform(X_test)"
   ]
  },
  {
   "cell_type": "code",
   "execution_count": 228,
   "metadata": {},
   "outputs": [
    {
     "data": {
      "text/html": [
       "<div>\n",
       "<style scoped>\n",
       "    .dataframe tbody tr th:only-of-type {\n",
       "        vertical-align: middle;\n",
       "    }\n",
       "\n",
       "    .dataframe tbody tr th {\n",
       "        vertical-align: top;\n",
       "    }\n",
       "\n",
       "    .dataframe thead th {\n",
       "        text-align: right;\n",
       "    }\n",
       "</style>\n",
       "<table border=\"1\" class=\"dataframe\">\n",
       "  <thead>\n",
       "    <tr style=\"text-align: right;\">\n",
       "      <th></th>\n",
       "      <th>data type</th>\n",
       "      <th>dataset</th>\n",
       "      <th>model</th>\n",
       "      <th>name</th>\n",
       "      <th>r2 score</th>\n",
       "      <th>xval score</th>\n",
       "    </tr>\n",
       "  </thead>\n",
       "  <tbody>\n",
       "    <tr>\n",
       "      <th>0</th>\n",
       "      <td>raw</td>\n",
       "      <td>train</td>\n",
       "      <td>LinearRegression(copy_X=True, fit_intercept=True, n_jobs=None, normalize=False)</td>\n",
       "      <td>Linear Regression</td>\n",
       "      <td>8.100000e-01</td>\n",
       "      <td>-1.714805e+18</td>\n",
       "    </tr>\n",
       "    <tr>\n",
       "      <th>1</th>\n",
       "      <td>raw</td>\n",
       "      <td>test</td>\n",
       "      <td>LinearRegression(copy_X=True, fit_intercept=True, n_jobs=None, normalize=False)</td>\n",
       "      <td>Linear Regression</td>\n",
       "      <td>-1.241865e+18</td>\n",
       "      <td>-1.424953e+19</td>\n",
       "    </tr>\n",
       "    <tr>\n",
       "      <th>2</th>\n",
       "      <td>scaled</td>\n",
       "      <td>train</td>\n",
       "      <td>Lasso(alpha=1.0, copy_X=True, fit_intercept=True, max_iter=1000,\\n      normalize=False, positive=False, precompute=False, random_state=None,\\n      selection='cyclic', tol=0.0001, warm_start=False)</td>\n",
       "      <td>Lasso</td>\n",
       "      <td>7.183705e-01</td>\n",
       "      <td>7.148365e-01</td>\n",
       "    </tr>\n",
       "    <tr>\n",
       "      <th>3</th>\n",
       "      <td>scaled</td>\n",
       "      <td>test</td>\n",
       "      <td>Lasso(alpha=1.0, copy_X=True, fit_intercept=True, max_iter=1000,\\n      normalize=False, positive=False, precompute=False, random_state=None,\\n      selection='cyclic', tol=0.0001, warm_start=False)</td>\n",
       "      <td>Lasso</td>\n",
       "      <td>7.076385e-01</td>\n",
       "      <td>7.022251e-01</td>\n",
       "    </tr>\n",
       "    <tr>\n",
       "      <th>4</th>\n",
       "      <td>scaled</td>\n",
       "      <td>train</td>\n",
       "      <td>Ridge(alpha=1.0, copy_X=True, fit_intercept=True, max_iter=None,\\n      normalize=False, random_state=None, solver='auto', tol=0.001)</td>\n",
       "      <td>Ridge</td>\n",
       "      <td>8.103796e-01</td>\n",
       "      <td>7.979422e-01</td>\n",
       "    </tr>\n",
       "    <tr>\n",
       "      <th>5</th>\n",
       "      <td>scaled</td>\n",
       "      <td>test</td>\n",
       "      <td>Ridge(alpha=1.0, copy_X=True, fit_intercept=True, max_iter=None,\\n      normalize=False, random_state=None, solver='auto', tol=0.001)</td>\n",
       "      <td>Ridge</td>\n",
       "      <td>7.867596e-01</td>\n",
       "      <td>7.587577e-01</td>\n",
       "    </tr>\n",
       "    <tr>\n",
       "      <th>6</th>\n",
       "      <td>scaled</td>\n",
       "      <td>train</td>\n",
       "      <td>ElasticNet(alpha=1.0, copy_X=True, fit_intercept=True, l1_ratio=0.5,\\n           max_iter=1000, normalize=False, positive=False, precompute=False,\\n           random_state=None, selection='cyclic', tol=0.0001, warm_start=False)</td>\n",
       "      <td>Elasticnet</td>\n",
       "      <td>6.931324e-01</td>\n",
       "      <td>6.883436e-01</td>\n",
       "    </tr>\n",
       "    <tr>\n",
       "      <th>7</th>\n",
       "      <td>scaled</td>\n",
       "      <td>test</td>\n",
       "      <td>ElasticNet(alpha=1.0, copy_X=True, fit_intercept=True, l1_ratio=0.5,\\n           max_iter=1000, normalize=False, positive=False, precompute=False,\\n           random_state=None, selection='cyclic', tol=0.0001, warm_start=False)</td>\n",
       "      <td>Elasticnet</td>\n",
       "      <td>6.854249e-01</td>\n",
       "      <td>6.791443e-01</td>\n",
       "    </tr>\n",
       "  </tbody>\n",
       "</table>\n",
       "</div>"
      ],
      "text/plain": [
       "  data type dataset  \\\n",
       "0       raw   train   \n",
       "1       raw    test   \n",
       "2    scaled   train   \n",
       "3    scaled    test   \n",
       "4    scaled   train   \n",
       "5    scaled    test   \n",
       "6    scaled   train   \n",
       "7    scaled    test   \n",
       "\n",
       "                                                                                                                                                                                                                                 model  \\\n",
       "0                                                                                                                                                      LinearRegression(copy_X=True, fit_intercept=True, n_jobs=None, normalize=False)   \n",
       "1                                                                                                                                                      LinearRegression(copy_X=True, fit_intercept=True, n_jobs=None, normalize=False)   \n",
       "2                               Lasso(alpha=1.0, copy_X=True, fit_intercept=True, max_iter=1000,\\n      normalize=False, positive=False, precompute=False, random_state=None,\\n      selection='cyclic', tol=0.0001, warm_start=False)   \n",
       "3                               Lasso(alpha=1.0, copy_X=True, fit_intercept=True, max_iter=1000,\\n      normalize=False, positive=False, precompute=False, random_state=None,\\n      selection='cyclic', tol=0.0001, warm_start=False)   \n",
       "4                                                                                                Ridge(alpha=1.0, copy_X=True, fit_intercept=True, max_iter=None,\\n      normalize=False, random_state=None, solver='auto', tol=0.001)   \n",
       "5                                                                                                Ridge(alpha=1.0, copy_X=True, fit_intercept=True, max_iter=None,\\n      normalize=False, random_state=None, solver='auto', tol=0.001)   \n",
       "6  ElasticNet(alpha=1.0, copy_X=True, fit_intercept=True, l1_ratio=0.5,\\n           max_iter=1000, normalize=False, positive=False, precompute=False,\\n           random_state=None, selection='cyclic', tol=0.0001, warm_start=False)   \n",
       "7  ElasticNet(alpha=1.0, copy_X=True, fit_intercept=True, l1_ratio=0.5,\\n           max_iter=1000, normalize=False, positive=False, precompute=False,\\n           random_state=None, selection='cyclic', tol=0.0001, warm_start=False)   \n",
       "\n",
       "                name      r2 score    xval score  \n",
       "0  Linear Regression  8.100000e-01 -1.714805e+18  \n",
       "1  Linear Regression -1.241865e+18 -1.424953e+19  \n",
       "2              Lasso  7.183705e-01  7.148365e-01  \n",
       "3              Lasso  7.076385e-01  7.022251e-01  \n",
       "4              Ridge  8.103796e-01  7.979422e-01  \n",
       "5              Ridge  7.867596e-01  7.587577e-01  \n",
       "6         Elasticnet  6.931324e-01  6.883436e-01  \n",
       "7         Elasticnet  6.854249e-01  6.791443e-01  "
      ]
     },
     "execution_count": 228,
     "metadata": {},
     "output_type": "execute_result"
    }
   ],
   "source": [
    "#Linear Model\n",
    "\n",
    "lr = LinearRegression()\n",
    "lr.fit(X_train,y_train)\n",
    "lr_train_score = lr.score(X_train,y_train)\n",
    "lr_test_score = lr.score(X_test, y_test)\n",
    "\n",
    "lr_train_cvscore = cross_val_score(lr, X_train,y_train, cv=3).mean()\n",
    "lr_test_cvscore = cross_val_score(lr, X_test,y_test, cv=3).mean()\n",
    "results = list()\n",
    "result_1 = {'name':'Linear Regression','dataset' : 'train','data type': 'raw','model': lr, \n",
    "            'r2 score': round(lr_train_score,2), 'xval score': round(lr_train_cvscore,2)}\n",
    "results.append(result_1)\n",
    "result_2 = {'name':'Linear Regression','dataset' : 'test','data type': 'raw','model': lr,\n",
    "            'r2 score': round(lr_test_score,2), 'xval score': round(lr_test_cvscore,2)\n",
    "            }\n",
    "results.append(result_2)\n",
    "\n",
    "#Lasso\n",
    "lasso_xs = Lasso()\n",
    "lasso_xs.fit(Xs_train, y_train)\n",
    "lasso_train_score_scaled = lasso_xs.score(Xs_train,y_train)\n",
    "lasso_test_score_scaled = lasso_xs.score(Xs_test, y_test)\n",
    "\n",
    "lasso_train_cvscore_scaled = cross_val_score(lasso_xs, Xs_train,y_train, cv=10).mean()\n",
    "lasso_test_cvscore_scaled = cross_val_score(lasso_xs, Xs_test,y_test, cv=10).mean()\n",
    "\n",
    "results.append({'name':'Lasso','dataset' : 'train','data type': 'scaled',\n",
    "                'model': lasso_xs, 'r2 score': lasso_train_score_scaled,'xval score': lasso_train_cvscore_scaled})\n",
    "results.append({'name':'Lasso','dataset' : 'test','data type': 'scaled',\n",
    "                'model': lasso_xs,'r2 score': lasso_test_score_scaled,'xval score': lasso_test_cvscore_scaled})\n",
    "\n",
    "#Ridge\n",
    "ridge_sc = Ridge()\n",
    "ridge_sc.fit(Xs_train, y_train)\n",
    "ridge_train_score_scaled = ridge_sc.score(Xs_train,y_train)\n",
    "ridge_test_score_scaled= ridge_sc.score(Xs_test, y_test)\n",
    "\n",
    "ridge_train_cvscore_scaled = cross_val_score(ridge_sc, Xs_train,y_train, cv=10).mean()\n",
    "ridge_test_cvscore_scaled = cross_val_score(ridge_sc, Xs_test,y_test, cv=10).mean()\n",
    "\n",
    "\n",
    "results.append({'name':'Ridge','dataset' : 'train','data type': 'scaled',\n",
    "                'model': ridge_sc, 'r2 score': ridge_train_score_scaled,'xval score': ridge_train_cvscore_scaled})\n",
    "results.append({'name':'Ridge','dataset' : 'test','data type': 'scaled',\n",
    "                'model': ridge_sc,'r2 score': ridge_test_score_scaled, 'xval score': ridge_test_cvscore_scaled})\n",
    "\n",
    "elasticnet_sc = ElasticNet()\n",
    "elasticnet_sc.fit(Xs_train, y_train)\n",
    "elasticnet_train_score_scaled = elasticnet_sc.score(Xs_train,y_train)\n",
    "elasticnet_test_score_scaled= elasticnet_sc.score(Xs_test, y_test)\n",
    "\n",
    "elasticnet_train_cvscore_scaled = cross_val_score(elasticnet_sc, Xs_train,y_train, cv=10).mean()\n",
    "elasticnet_test_cvscore_scaled = cross_val_score(elasticnet_sc, Xs_test,y_test, cv=10).mean()\n",
    "\n",
    "\n",
    "results.append({'name':'Elasticnet','dataset' : 'train','data type': 'scaled',\n",
    "                'model': elasticnet_sc, 'r2 score': elasticnet_train_score_scaled,'xval score': elasticnet_train_cvscore_scaled})\n",
    "results.append({'name':'Elasticnet','dataset' : 'test','data type': 'scaled',\n",
    "                'model': elasticnet_sc,'r2 score': elasticnet_test_score_scaled, 'xval score': elasticnet_test_cvscore_scaled})\n",
    "pd.DataFrame(results)"
   ]
  },
  {
   "cell_type": "markdown",
   "metadata": {},
   "source": [
    "Train set seems to perform mildly better than the first model where Title was transformed using the count vectorizer but not much different when using the test set."
   ]
  },
  {
   "cell_type": "code",
   "execution_count": 545,
   "metadata": {},
   "outputs": [
    {
     "data": {
      "text/html": [
       "<div>\n",
       "<style scoped>\n",
       "    .dataframe tbody tr th:only-of-type {\n",
       "        vertical-align: middle;\n",
       "    }\n",
       "\n",
       "    .dataframe tbody tr th {\n",
       "        vertical-align: top;\n",
       "    }\n",
       "\n",
       "    .dataframe thead th {\n",
       "        text-align: right;\n",
       "    }\n",
       "</style>\n",
       "<table border=\"1\" class=\"dataframe\">\n",
       "  <thead>\n",
       "    <tr style=\"text-align: right;\">\n",
       "      <th></th>\n",
       "      <th>variable</th>\n",
       "      <th>ridge_coef</th>\n",
       "      <th>abs_ridge_coef</th>\n",
       "    </tr>\n",
       "  </thead>\n",
       "  <tbody>\n",
       "    <tr>\n",
       "      <th>63</th>\n",
       "      <td>h&amp;m</td>\n",
       "      <td>-23.845909</td>\n",
       "      <td>23.845909</td>\n",
       "    </tr>\n",
       "    <tr>\n",
       "      <th>2</th>\n",
       "      <td>a-in girls</td>\n",
       "      <td>22.940043</td>\n",
       "      <td>22.940043</td>\n",
       "    </tr>\n",
       "    <tr>\n",
       "      <th>173</th>\n",
       "      <td>zalora</td>\n",
       "      <td>-17.575897</td>\n",
       "      <td>17.575897</td>\n",
       "    </tr>\n",
       "    <tr>\n",
       "      <th>1638</th>\n",
       "      <td>size larger</td>\n",
       "      <td>-16.945430</td>\n",
       "      <td>16.945430</td>\n",
       "    </tr>\n",
       "    <tr>\n",
       "      <th>169</th>\n",
       "      <td>yg fitness</td>\n",
       "      <td>14.990624</td>\n",
       "      <td>14.990624</td>\n",
       "    </tr>\n",
       "    <tr>\n",
       "      <th>175</th>\n",
       "      <td>zalora basics</td>\n",
       "      <td>-13.609243</td>\n",
       "      <td>13.609243</td>\n",
       "    </tr>\n",
       "    <tr>\n",
       "      <th>140</th>\n",
       "      <td>something borrowed</td>\n",
       "      <td>-13.297946</td>\n",
       "      <td>13.297946</td>\n",
       "    </tr>\n",
       "    <tr>\n",
       "      <th>1461</th>\n",
       "      <td>responsible edit</td>\n",
       "      <td>-13.046565</td>\n",
       "      <td>13.046565</td>\n",
       "    </tr>\n",
       "    <tr>\n",
       "      <th>1460</th>\n",
       "      <td>responsible</td>\n",
       "      <td>11.614928</td>\n",
       "      <td>11.614928</td>\n",
       "    </tr>\n",
       "    <tr>\n",
       "      <th>176</th>\n",
       "      <td>zara</td>\n",
       "      <td>-11.018137</td>\n",
       "      <td>11.018137</td>\n",
       "    </tr>\n",
       "    <tr>\n",
       "      <th>1657</th>\n",
       "      <td>sizing runs size</td>\n",
       "      <td>10.708029</td>\n",
       "      <td>10.708029</td>\n",
       "    </tr>\n",
       "    <tr>\n",
       "      <th>1568</th>\n",
       "      <td>self 100</td>\n",
       "      <td>10.374980</td>\n",
       "      <td>10.374980</td>\n",
       "    </tr>\n",
       "    <tr>\n",
       "      <th>1655</th>\n",
       "      <td>sizing</td>\n",
       "      <td>9.786764</td>\n",
       "      <td>9.786764</td>\n",
       "    </tr>\n",
       "    <tr>\n",
       "      <th>9</th>\n",
       "      <td>asos design</td>\n",
       "      <td>-9.556918</td>\n",
       "      <td>9.556918</td>\n",
       "    </tr>\n",
       "    <tr>\n",
       "      <th>1466</th>\n",
       "      <td>revolve self 100</td>\n",
       "      <td>-9.403438</td>\n",
       "      <td>9.403438</td>\n",
       "    </tr>\n",
       "    <tr>\n",
       "      <th>90</th>\n",
       "      <td>love bonito</td>\n",
       "      <td>-8.975445</td>\n",
       "      <td>8.975445</td>\n",
       "    </tr>\n",
       "    <tr>\n",
       "      <th>73</th>\n",
       "      <td>its me</td>\n",
       "      <td>8.873612</td>\n",
       "      <td>8.873612</td>\n",
       "    </tr>\n",
       "    <tr>\n",
       "      <th>1969</th>\n",
       "      <td>unlined regular</td>\n",
       "      <td>8.795833</td>\n",
       "      <td>8.795833</td>\n",
       "    </tr>\n",
       "    <tr>\n",
       "      <th>135</th>\n",
       "      <td>runway bandits</td>\n",
       "      <td>-8.559298</td>\n",
       "      <td>8.559298</td>\n",
       "    </tr>\n",
       "    <tr>\n",
       "      <th>2036</th>\n",
       "      <td>wash cold</td>\n",
       "      <td>-8.028584</td>\n",
       "      <td>8.028584</td>\n",
       "    </tr>\n",
       "    <tr>\n",
       "      <th>97</th>\n",
       "      <td>mango</td>\n",
       "      <td>-7.947086</td>\n",
       "      <td>7.947086</td>\n",
       "    </tr>\n",
       "    <tr>\n",
       "      <th>1463</th>\n",
       "      <td>revolve</td>\n",
       "      <td>7.933531</td>\n",
       "      <td>7.933531</td>\n",
       "    </tr>\n",
       "    <tr>\n",
       "      <th>121</th>\n",
       "      <td>pomelo</td>\n",
       "      <td>-7.905950</td>\n",
       "      <td>7.905950</td>\n",
       "    </tr>\n",
       "    <tr>\n",
       "      <th>1019</th>\n",
       "      <td>korean fashion</td>\n",
       "      <td>-7.756823</td>\n",
       "      <td>7.756823</td>\n",
       "    </tr>\n",
       "    <tr>\n",
       "      <th>1970</th>\n",
       "      <td>unlined regular fit</td>\n",
       "      <td>-7.704791</td>\n",
       "      <td>7.704791</td>\n",
       "    </tr>\n",
       "    <tr>\n",
       "      <th>1047</th>\n",
       "      <td>leather</td>\n",
       "      <td>7.414126</td>\n",
       "      <td>7.414126</td>\n",
       "    </tr>\n",
       "    <tr>\n",
       "      <th>546</th>\n",
       "      <td>depending</td>\n",
       "      <td>-7.149771</td>\n",
       "      <td>7.149771</td>\n",
       "    </tr>\n",
       "    <tr>\n",
       "      <th>180</th>\n",
       "      <td>lingerie</td>\n",
       "      <td>-7.024722</td>\n",
       "      <td>7.024722</td>\n",
       "    </tr>\n",
       "    <tr>\n",
       "      <th>185</th>\n",
       "      <td>tops</td>\n",
       "      <td>-6.943526</td>\n",
       "      <td>6.943526</td>\n",
       "    </tr>\n",
       "    <tr>\n",
       "      <th>35</th>\n",
       "      <td>cotton on</td>\n",
       "      <td>-6.879529</td>\n",
       "      <td>6.879529</td>\n",
       "    </tr>\n",
       "    <tr>\n",
       "      <th>...</th>\n",
       "      <td>...</td>\n",
       "      <td>...</td>\n",
       "      <td>...</td>\n",
       "    </tr>\n",
       "    <tr>\n",
       "      <th>133</th>\n",
       "      <td>river island</td>\n",
       "      <td>-3.784955</td>\n",
       "      <td>3.784955</td>\n",
       "    </tr>\n",
       "    <tr>\n",
       "      <th>1338</th>\n",
       "      <td>pocket style</td>\n",
       "      <td>3.720301</td>\n",
       "      <td>3.720301</td>\n",
       "    </tr>\n",
       "    <tr>\n",
       "      <th>153</th>\n",
       "      <td>tularosa</td>\n",
       "      <td>3.657924</td>\n",
       "      <td>3.657924</td>\n",
       "    </tr>\n",
       "    <tr>\n",
       "      <th>179</th>\n",
       "      <td>dresses</td>\n",
       "      <td>3.562206</td>\n",
       "      <td>3.562206</td>\n",
       "    </tr>\n",
       "    <tr>\n",
       "      <th>109</th>\n",
       "      <td>new look</td>\n",
       "      <td>-3.542752</td>\n",
       "      <td>3.542752</td>\n",
       "    </tr>\n",
       "    <tr>\n",
       "      <th>1561</th>\n",
       "      <td>select</td>\n",
       "      <td>-3.494046</td>\n",
       "      <td>3.494046</td>\n",
       "    </tr>\n",
       "    <tr>\n",
       "      <th>1562</th>\n",
       "      <td>select usual</td>\n",
       "      <td>-3.494046</td>\n",
       "      <td>3.494046</td>\n",
       "    </tr>\n",
       "    <tr>\n",
       "      <th>106</th>\n",
       "      <td>nbd</td>\n",
       "      <td>3.458892</td>\n",
       "      <td>3.458892</td>\n",
       "    </tr>\n",
       "    <tr>\n",
       "      <th>22</th>\n",
       "      <td>brave soul</td>\n",
       "      <td>-3.451678</td>\n",
       "      <td>3.451678</td>\n",
       "    </tr>\n",
       "    <tr>\n",
       "      <th>810</th>\n",
       "      <td>fit zip</td>\n",
       "      <td>3.392781</td>\n",
       "      <td>3.392781</td>\n",
       "    </tr>\n",
       "    <tr>\n",
       "      <th>1740</th>\n",
       "      <td>smooth woven</td>\n",
       "      <td>3.350695</td>\n",
       "      <td>3.350695</td>\n",
       "    </tr>\n",
       "    <tr>\n",
       "      <th>969</th>\n",
       "      <td>jacket</td>\n",
       "      <td>3.255974</td>\n",
       "      <td>3.255974</td>\n",
       "    </tr>\n",
       "    <tr>\n",
       "      <th>149</th>\n",
       "      <td>tokichoi</td>\n",
       "      <td>-3.242604</td>\n",
       "      <td>3.242604</td>\n",
       "    </tr>\n",
       "    <tr>\n",
       "      <th>414</th>\n",
       "      <td>cold</td>\n",
       "      <td>3.195958</td>\n",
       "      <td>3.195958</td>\n",
       "    </tr>\n",
       "    <tr>\n",
       "      <th>1111</th>\n",
       "      <td>little lingerie drawer</td>\n",
       "      <td>-3.192078</td>\n",
       "      <td>3.192078</td>\n",
       "    </tr>\n",
       "    <tr>\n",
       "      <th>123</th>\n",
       "      <td>prettylittlething</td>\n",
       "      <td>-3.145132</td>\n",
       "      <td>3.145132</td>\n",
       "    </tr>\n",
       "    <tr>\n",
       "      <th>101</th>\n",
       "      <td>miss selfridge</td>\n",
       "      <td>-3.124912</td>\n",
       "      <td>3.124912</td>\n",
       "    </tr>\n",
       "    <tr>\n",
       "      <th>36</th>\n",
       "      <td>cotton on body</td>\n",
       "      <td>-3.114649</td>\n",
       "      <td>3.114649</td>\n",
       "    </tr>\n",
       "    <tr>\n",
       "      <th>1648</th>\n",
       "      <td>size satin</td>\n",
       "      <td>3.057843</td>\n",
       "      <td>3.057843</td>\n",
       "    </tr>\n",
       "    <tr>\n",
       "      <th>78</th>\n",
       "      <td>kodz</td>\n",
       "      <td>-3.056258</td>\n",
       "      <td>3.056258</td>\n",
       "    </tr>\n",
       "    <tr>\n",
       "      <th>170</th>\n",
       "      <td>yoco</td>\n",
       "      <td>-3.054226</td>\n",
       "      <td>3.054226</td>\n",
       "    </tr>\n",
       "    <tr>\n",
       "      <th>449</th>\n",
       "      <td>considerable</td>\n",
       "      <td>-3.025720</td>\n",
       "      <td>3.025720</td>\n",
       "    </tr>\n",
       "    <tr>\n",
       "      <th>1411</th>\n",
       "      <td>quick drying</td>\n",
       "      <td>-3.018361</td>\n",
       "      <td>3.018361</td>\n",
       "    </tr>\n",
       "    <tr>\n",
       "      <th>373</th>\n",
       "      <td>calvin</td>\n",
       "      <td>2.964463</td>\n",
       "      <td>2.964463</td>\n",
       "    </tr>\n",
       "    <tr>\n",
       "      <th>68</th>\n",
       "      <td>hopeshow</td>\n",
       "      <td>-2.954888</td>\n",
       "      <td>2.954888</td>\n",
       "    </tr>\n",
       "    <tr>\n",
       "      <th>51</th>\n",
       "      <td>finders keepers</td>\n",
       "      <td>2.945936</td>\n",
       "      <td>2.945936</td>\n",
       "    </tr>\n",
       "    <tr>\n",
       "      <th>1741</th>\n",
       "      <td>smooth woven fabric</td>\n",
       "      <td>-2.927719</td>\n",
       "      <td>2.927719</td>\n",
       "    </tr>\n",
       "    <tr>\n",
       "      <th>39</th>\n",
       "      <td>desigual</td>\n",
       "      <td>2.917087</td>\n",
       "      <td>2.917087</td>\n",
       "    </tr>\n",
       "    <tr>\n",
       "      <th>1834</th>\n",
       "      <td>style fabric silky</td>\n",
       "      <td>-2.911543</td>\n",
       "      <td>2.911543</td>\n",
       "    </tr>\n",
       "    <tr>\n",
       "      <th>79</th>\n",
       "      <td>l'academie</td>\n",
       "      <td>2.886563</td>\n",
       "      <td>2.886563</td>\n",
       "    </tr>\n",
       "  </tbody>\n",
       "</table>\n",
       "<p>100 rows × 3 columns</p>\n",
       "</div>"
      ],
      "text/plain": [
       "                    variable  ridge_coef  abs_ridge_coef\n",
       "63                       h&m  -23.845909       23.845909\n",
       "2                 a-in girls   22.940043       22.940043\n",
       "173                   zalora  -17.575897       17.575897\n",
       "1638             size larger  -16.945430       16.945430\n",
       "169               yg fitness   14.990624       14.990624\n",
       "175            zalora basics  -13.609243       13.609243\n",
       "140       something borrowed  -13.297946       13.297946\n",
       "1461        responsible edit  -13.046565       13.046565\n",
       "1460             responsible   11.614928       11.614928\n",
       "176                     zara  -11.018137       11.018137\n",
       "1657        sizing runs size   10.708029       10.708029\n",
       "1568                self 100   10.374980       10.374980\n",
       "1655                  sizing    9.786764        9.786764\n",
       "9                asos design   -9.556918        9.556918\n",
       "1466        revolve self 100   -9.403438        9.403438\n",
       "90               love bonito   -8.975445        8.975445\n",
       "73                    its me    8.873612        8.873612\n",
       "1969         unlined regular    8.795833        8.795833\n",
       "135           runway bandits   -8.559298        8.559298\n",
       "2036               wash cold   -8.028584        8.028584\n",
       "97                     mango   -7.947086        7.947086\n",
       "1463                 revolve    7.933531        7.933531\n",
       "121                   pomelo   -7.905950        7.905950\n",
       "1019          korean fashion   -7.756823        7.756823\n",
       "1970     unlined regular fit   -7.704791        7.704791\n",
       "1047                 leather    7.414126        7.414126\n",
       "546                depending   -7.149771        7.149771\n",
       "180                 lingerie   -7.024722        7.024722\n",
       "185                     tops   -6.943526        6.943526\n",
       "35                 cotton on   -6.879529        6.879529\n",
       "...                      ...         ...             ...\n",
       "133             river island   -3.784955        3.784955\n",
       "1338            pocket style    3.720301        3.720301\n",
       "153                 tularosa    3.657924        3.657924\n",
       "179                  dresses    3.562206        3.562206\n",
       "109                 new look   -3.542752        3.542752\n",
       "1561                  select   -3.494046        3.494046\n",
       "1562            select usual   -3.494046        3.494046\n",
       "106                      nbd    3.458892        3.458892\n",
       "22                brave soul   -3.451678        3.451678\n",
       "810                  fit zip    3.392781        3.392781\n",
       "1740            smooth woven    3.350695        3.350695\n",
       "969                   jacket    3.255974        3.255974\n",
       "149                 tokichoi   -3.242604        3.242604\n",
       "414                     cold    3.195958        3.195958\n",
       "1111  little lingerie drawer   -3.192078        3.192078\n",
       "123        prettylittlething   -3.145132        3.145132\n",
       "101           miss selfridge   -3.124912        3.124912\n",
       "36            cotton on body   -3.114649        3.114649\n",
       "1648              size satin    3.057843        3.057843\n",
       "78                      kodz   -3.056258        3.056258\n",
       "170                     yoco   -3.054226        3.054226\n",
       "449             considerable   -3.025720        3.025720\n",
       "1411            quick drying   -3.018361        3.018361\n",
       "373                   calvin    2.964463        2.964463\n",
       "68                  hopeshow   -2.954888        2.954888\n",
       "51           finders keepers    2.945936        2.945936\n",
       "1741     smooth woven fabric   -2.927719        2.927719\n",
       "39                  desigual    2.917087        2.917087\n",
       "1834      style fabric silky   -2.911543        2.911543\n",
       "79                l'academie    2.886563        2.886563\n",
       "\n",
       "[100 rows x 3 columns]"
      ]
     },
     "execution_count": 545,
     "metadata": {},
     "output_type": "execute_result"
    }
   ],
   "source": [
    "ridge_coefs = pd.DataFrame({'variable':X.columns,\n",
    "                            'ridge_coef':ridge_sc.coef_,\n",
    "                            'abs_ridge_coef':np.abs(ridge_sc.coef_)})\n",
    "\n",
    "ridge_coefs.sort_values('abs_ridge_coef', inplace=True, ascending=False)\n",
    "\n",
    "ridge_coefs.head(100)"
   ]
  },
  {
   "cell_type": "markdown",
   "metadata": {},
   "source": [
    "Seems like some of the words are repeated"
   ]
  },
  {
   "cell_type": "code",
   "execution_count": 209,
   "metadata": {},
   "outputs": [],
   "source": [
    "model = xgb.XGBRegressor(colsample_bytree=0.4,\n",
    "                 gamma=0,                 \n",
    "                 learning_rate=0.07,\n",
    "                 max_depth=2,\n",
    "                 min_child_weight=1.5,\n",
    "                 n_estimators=1000,                                                                    \n",
    "                 reg_alpha=0.75,\n",
    "                 reg_lambda=0.45,\n",
    "                 subsample=0.6,\n",
    "                 seed=42) "
   ]
  },
  {
   "cell_type": "code",
   "execution_count": 234,
   "metadata": {},
   "outputs": [
    {
     "name": "stderr",
     "output_type": "stream",
     "text": [
      "/Users/lynn/anaconda3/lib/python3.7/site-packages/xgboost/core.py:587: FutureWarning: Series.base is deprecated and will be removed in a future version\n",
      "  if getattr(data, 'base', None) is not None and \\\n"
     ]
    },
    {
     "name": "stdout",
     "output_type": "stream",
     "text": [
      "[16:18:28] WARNING: src/objective/regression_obj.cu:152: reg:linear is now deprecated in favor of reg:squarederror.\n"
     ]
    },
    {
     "data": {
      "text/plain": [
       "XGBRegressor(base_score=0.5, booster='gbtree', colsample_bylevel=1,\n",
       "             colsample_bynode=1, colsample_bytree=0.4, gamma=0,\n",
       "             importance_type='gain', learning_rate=0.07, max_delta_step=0,\n",
       "             max_depth=2, min_child_weight=1.5, missing=None, n_estimators=1000,\n",
       "             n_jobs=1, nthread=None, objective='reg:linear', random_state=0,\n",
       "             reg_alpha=0.75, reg_lambda=0.45, scale_pos_weight=1, seed=42,\n",
       "             silent=None, subsample=0.6, verbosity=1)"
      ]
     },
     "execution_count": 234,
     "metadata": {},
     "output_type": "execute_result"
    }
   ],
   "source": [
    "model.fit(X_train, y_train)"
   ]
  },
  {
   "cell_type": "code",
   "execution_count": 235,
   "metadata": {},
   "outputs": [],
   "source": [
    "eval_set = [(X_train, y_train), (X_test, y_test)]\n",
    "scores = cross_val_score(xgb.XGBRegressor(), X_train, y_train, cv = 5, n_jobs = -1)"
   ]
  },
  {
   "cell_type": "code",
   "execution_count": 236,
   "metadata": {},
   "outputs": [
    {
     "data": {
      "text/plain": [
       "array([0.64785526, 0.64100103, 0.67226372, 0.6580266 , 0.65929658])"
      ]
     },
     "execution_count": 236,
     "metadata": {},
     "output_type": "execute_result"
    }
   ],
   "source": [
    "scores"
   ]
  },
  {
   "cell_type": "markdown",
   "metadata": {},
   "source": [
    "###  2.3. CVEC for 1 variable, TVEC for 1 new joint variable"
   ]
  },
  {
   "cell_type": "code",
   "execution_count": 684,
   "metadata": {},
   "outputs": [],
   "source": [
    "df = pd.read_csv(\"clean_dataset.csv\")"
   ]
  },
  {
   "cell_type": "code",
   "execution_count": 685,
   "metadata": {},
   "outputs": [],
   "source": [
    "df.drop(columns=['Unnamed: 0'], inplace=True)"
   ]
  },
  {
   "cell_type": "code",
   "execution_count": 686,
   "metadata": {},
   "outputs": [
    {
     "data": {
      "text/plain": [
       "Index(['brand', 'category', 'colour', 'description', 'price', 'title'], dtype='object')"
      ]
     },
     "execution_count": 686,
     "metadata": {},
     "output_type": "execute_result"
    }
   ],
   "source": [
    "df.columns"
   ]
  },
  {
   "cell_type": "code",
   "execution_count": 687,
   "metadata": {},
   "outputs": [],
   "source": [
    "df['text'] = df['title'] + ' ' + df['description']"
   ]
  },
  {
   "cell_type": "code",
   "execution_count": 688,
   "metadata": {},
   "outputs": [],
   "source": [
    "df.drop(columns=['title','description'], inplace= True)"
   ]
  },
  {
   "cell_type": "code",
   "execution_count": 689,
   "metadata": {},
   "outputs": [],
   "source": [
    "NUM_BRANDS = 1000\n",
    "NUM_CATEGORIES = 50\n",
    "NAME_MIN_DF = 1000\n",
    "MAX_FEATURES_ITEM_DESCRIPTION = 2000"
   ]
  },
  {
   "cell_type": "code",
   "execution_count": 690,
   "metadata": {},
   "outputs": [],
   "source": [
    "# cvec = CountVectorizer(min_df=NAME_MIN_DF)\n",
    "# X_name = cvec.fit_transform(df['title'])\n",
    "# X_name_df = pd.DataFrame(X_name.toarray(),columns=cvec.get_feature_names())\n",
    "cvec = CountVectorizer()\n",
    "X_category = cvec.fit_transform(df['category'])\n",
    "X_category_df = pd.DataFrame(X_category.toarray(),columns=cvec.get_feature_names())\n",
    "# cvec = CountVectorizer()\n",
    "# X_category = cvec.fit_transform(df['colour'])\n",
    "# X_category_df = pd.DataFrame(X_category.toarray(),columns=cvec.get_feature_names())"
   ]
  },
  {
   "cell_type": "code",
   "execution_count": 691,
   "metadata": {},
   "outputs": [],
   "source": [
    "tvec = TfidfVectorizer(max_features=MAX_FEATURES_ITEM_DESCRIPTION, ngram_range=(1, 3), stop_words='english')\n",
    "X_description = tvec.fit_transform(df['text'])\n",
    "X_description_df = pd.DataFrame(X_description.toarray(), columns = tvec.get_feature_names())\n",
    "# tvec = TfidfVectorizer(max_features=NAME_MIN_DF, ngram_range=(1, 3), stop_words='english')\n",
    "# X_title = tvec.fit_transform(df['title'])\n",
    "# X_title_df = pd.DataFrame(X_title.toarray(), columns = tvec.get_feature_names())"
   ]
  },
  {
   "cell_type": "code",
   "execution_count": 692,
   "metadata": {},
   "outputs": [],
   "source": [
    "# lb = LabelBinarizer(sparse_output=True)\n",
    "# X_brand = lb.fit_transform(df['brand'])\n",
    "# X_brand_df = pd.DataFrame(X_brand.toarray(),columns = lb.get_feature_names())"
   ]
  },
  {
   "cell_type": "code",
   "execution_count": 693,
   "metadata": {},
   "outputs": [],
   "source": [
    "dummies=pd.get_dummies(df['brand'])\n",
    "df = pd.concat([df['price'], dummies,X_category_df,X_description_df], axis=1)"
   ]
  },
  {
   "cell_type": "code",
   "execution_count": 694,
   "metadata": {},
   "outputs": [
    {
     "data": {
      "text/plain": [
       "(78351, 2700)"
      ]
     },
     "execution_count": 694,
     "metadata": {},
     "output_type": "execute_result"
    }
   ],
   "source": [
    "df.shape"
   ]
  },
  {
   "cell_type": "code",
   "execution_count": 695,
   "metadata": {},
   "outputs": [],
   "source": [
    "# df_merge = hstack((X_name,X_category, X_description, X_brand)).tocsr()"
   ]
  },
  {
   "cell_type": "code",
   "execution_count": 696,
   "metadata": {},
   "outputs": [],
   "source": [
    "# mask = np.array(np.clip(df_merge.getnnz(axis=0) - 1, 0, 1), dtype=bool)\n",
    "# df_merge = df_merge[:, mask]"
   ]
  },
  {
   "cell_type": "code",
   "execution_count": 697,
   "metadata": {},
   "outputs": [
    {
     "name": "stdout",
     "output_type": "stream",
     "text": [
      "(78351, 2700)\n",
      "(78351, 2100)\n"
     ]
    }
   ],
   "source": [
    "#shape before drop\n",
    "print(df.shape)\n",
    "\n",
    "#dropping columns that have less than 100 data points\n",
    "df.drop([col for col, val in df.sum().iteritems() if val < 50], axis=1, inplace=True)\n",
    "\n",
    "#dropping duplicated columns\n",
    "df = df.loc[:,~df.columns.duplicated()]\n",
    "\n",
    "#shape after dropping\n",
    "print(df.shape)"
   ]
  },
  {
   "cell_type": "code",
   "execution_count": 698,
   "metadata": {},
   "outputs": [],
   "source": [
    "features = [x for x in df.columns if (x!= 'price') ]"
   ]
  },
  {
   "cell_type": "code",
   "execution_count": 699,
   "metadata": {},
   "outputs": [],
   "source": [
    "X = df[features]\n",
    "y= df['price']"
   ]
  },
  {
   "cell_type": "code",
   "execution_count": 700,
   "metadata": {},
   "outputs": [],
   "source": [
    "X_train, X_test, y_train, y_test = train_test_split(X, y, random_state=42)"
   ]
  },
  {
   "cell_type": "code",
   "execution_count": 701,
   "metadata": {},
   "outputs": [],
   "source": [
    "from sklearn.preprocessing import StandardScaler\n",
    "# Instantiate\n",
    "scaler = StandardScaler()\n",
    "# fit_transform\n",
    "Xs_train = scaler.fit_transform(X_train)\n",
    "# transform\n",
    "Xs_test = scaler.transform(X_test)"
   ]
  },
  {
   "cell_type": "markdown",
   "metadata": {},
   "source": [
    "#### Modelling: Linear, Lasso, Ridge and Elastic Net"
   ]
  },
  {
   "cell_type": "code",
   "execution_count": 702,
   "metadata": {},
   "outputs": [
    {
     "data": {
      "text/html": [
       "<div>\n",
       "<style scoped>\n",
       "    .dataframe tbody tr th:only-of-type {\n",
       "        vertical-align: middle;\n",
       "    }\n",
       "\n",
       "    .dataframe tbody tr th {\n",
       "        vertical-align: top;\n",
       "    }\n",
       "\n",
       "    .dataframe thead th {\n",
       "        text-align: right;\n",
       "    }\n",
       "</style>\n",
       "<table border=\"1\" class=\"dataframe\">\n",
       "  <thead>\n",
       "    <tr style=\"text-align: right;\">\n",
       "      <th></th>\n",
       "      <th>data type</th>\n",
       "      <th>dataset</th>\n",
       "      <th>model</th>\n",
       "      <th>name</th>\n",
       "      <th>r2 score</th>\n",
       "      <th>xval score</th>\n",
       "    </tr>\n",
       "  </thead>\n",
       "  <tbody>\n",
       "    <tr>\n",
       "      <th>0</th>\n",
       "      <td>raw</td>\n",
       "      <td>train</td>\n",
       "      <td>LinearRegression(copy_X=True, fit_intercept=True, n_jobs=None, normalize=False)</td>\n",
       "      <td>Linear Regression</td>\n",
       "      <td>8.200000e-01</td>\n",
       "      <td>-1.373675e+18</td>\n",
       "    </tr>\n",
       "    <tr>\n",
       "      <th>1</th>\n",
       "      <td>raw</td>\n",
       "      <td>test</td>\n",
       "      <td>LinearRegression(copy_X=True, fit_intercept=True, n_jobs=None, normalize=False)</td>\n",
       "      <td>Linear Regression</td>\n",
       "      <td>-3.066828e+15</td>\n",
       "      <td>-6.539917e+19</td>\n",
       "    </tr>\n",
       "    <tr>\n",
       "      <th>2</th>\n",
       "      <td>scaled</td>\n",
       "      <td>train</td>\n",
       "      <td>Lasso(alpha=1.0, copy_X=True, fit_intercept=True, max_iter=1000,\\n      normalize=False, positive=False, precompute=False, random_state=None,\\n      selection='cyclic', tol=0.0001, warm_start=False)</td>\n",
       "      <td>Lasso</td>\n",
       "      <td>7.102681e-01</td>\n",
       "      <td>7.069313e-01</td>\n",
       "    </tr>\n",
       "    <tr>\n",
       "      <th>3</th>\n",
       "      <td>scaled</td>\n",
       "      <td>test</td>\n",
       "      <td>Lasso(alpha=1.0, copy_X=True, fit_intercept=True, max_iter=1000,\\n      normalize=False, positive=False, precompute=False, random_state=None,\\n      selection='cyclic', tol=0.0001, warm_start=False)</td>\n",
       "      <td>Lasso</td>\n",
       "      <td>7.056368e-01</td>\n",
       "      <td>7.046763e-01</td>\n",
       "    </tr>\n",
       "    <tr>\n",
       "      <th>4</th>\n",
       "      <td>scaled</td>\n",
       "      <td>train</td>\n",
       "      <td>Ridge(alpha=1.0, copy_X=True, fit_intercept=True, max_iter=None,\\n      normalize=False, random_state=None, solver='auto', tol=0.001)</td>\n",
       "      <td>Ridge</td>\n",
       "      <td>8.188141e-01</td>\n",
       "      <td>8.038939e-01</td>\n",
       "    </tr>\n",
       "    <tr>\n",
       "      <th>5</th>\n",
       "      <td>scaled</td>\n",
       "      <td>test</td>\n",
       "      <td>Ridge(alpha=1.0, copy_X=True, fit_intercept=True, max_iter=None,\\n      normalize=False, random_state=None, solver='auto', tol=0.001)</td>\n",
       "      <td>Ridge</td>\n",
       "      <td>8.064498e-01</td>\n",
       "      <td>7.846817e-01</td>\n",
       "    </tr>\n",
       "    <tr>\n",
       "      <th>6</th>\n",
       "      <td>scaled</td>\n",
       "      <td>train</td>\n",
       "      <td>ElasticNet(alpha=1.0, copy_X=True, fit_intercept=True, l1_ratio=0.5,\\n           max_iter=1000, normalize=False, positive=False, precompute=False,\\n           random_state=None, selection='cyclic', tol=0.0001, warm_start=False)</td>\n",
       "      <td>Elasticnet</td>\n",
       "      <td>6.984937e-01</td>\n",
       "      <td>6.940019e-01</td>\n",
       "    </tr>\n",
       "    <tr>\n",
       "      <th>7</th>\n",
       "      <td>scaled</td>\n",
       "      <td>test</td>\n",
       "      <td>ElasticNet(alpha=1.0, copy_X=True, fit_intercept=True, l1_ratio=0.5,\\n           max_iter=1000, normalize=False, positive=False, precompute=False,\\n           random_state=None, selection='cyclic', tol=0.0001, warm_start=False)</td>\n",
       "      <td>Elasticnet</td>\n",
       "      <td>6.895440e-01</td>\n",
       "      <td>6.896789e-01</td>\n",
       "    </tr>\n",
       "  </tbody>\n",
       "</table>\n",
       "</div>"
      ],
      "text/plain": [
       "  data type dataset  \\\n",
       "0       raw   train   \n",
       "1       raw    test   \n",
       "2    scaled   train   \n",
       "3    scaled    test   \n",
       "4    scaled   train   \n",
       "5    scaled    test   \n",
       "6    scaled   train   \n",
       "7    scaled    test   \n",
       "\n",
       "                                                                                                                                                                                                                                 model  \\\n",
       "0                                                                                                                                                      LinearRegression(copy_X=True, fit_intercept=True, n_jobs=None, normalize=False)   \n",
       "1                                                                                                                                                      LinearRegression(copy_X=True, fit_intercept=True, n_jobs=None, normalize=False)   \n",
       "2                               Lasso(alpha=1.0, copy_X=True, fit_intercept=True, max_iter=1000,\\n      normalize=False, positive=False, precompute=False, random_state=None,\\n      selection='cyclic', tol=0.0001, warm_start=False)   \n",
       "3                               Lasso(alpha=1.0, copy_X=True, fit_intercept=True, max_iter=1000,\\n      normalize=False, positive=False, precompute=False, random_state=None,\\n      selection='cyclic', tol=0.0001, warm_start=False)   \n",
       "4                                                                                                Ridge(alpha=1.0, copy_X=True, fit_intercept=True, max_iter=None,\\n      normalize=False, random_state=None, solver='auto', tol=0.001)   \n",
       "5                                                                                                Ridge(alpha=1.0, copy_X=True, fit_intercept=True, max_iter=None,\\n      normalize=False, random_state=None, solver='auto', tol=0.001)   \n",
       "6  ElasticNet(alpha=1.0, copy_X=True, fit_intercept=True, l1_ratio=0.5,\\n           max_iter=1000, normalize=False, positive=False, precompute=False,\\n           random_state=None, selection='cyclic', tol=0.0001, warm_start=False)   \n",
       "7  ElasticNet(alpha=1.0, copy_X=True, fit_intercept=True, l1_ratio=0.5,\\n           max_iter=1000, normalize=False, positive=False, precompute=False,\\n           random_state=None, selection='cyclic', tol=0.0001, warm_start=False)   \n",
       "\n",
       "                name      r2 score    xval score  \n",
       "0  Linear Regression  8.200000e-01 -1.373675e+18  \n",
       "1  Linear Regression -3.066828e+15 -6.539917e+19  \n",
       "2              Lasso  7.102681e-01  7.069313e-01  \n",
       "3              Lasso  7.056368e-01  7.046763e-01  \n",
       "4              Ridge  8.188141e-01  8.038939e-01  \n",
       "5              Ridge  8.064498e-01  7.846817e-01  \n",
       "6         Elasticnet  6.984937e-01  6.940019e-01  \n",
       "7         Elasticnet  6.895440e-01  6.896789e-01  "
      ]
     },
     "execution_count": 702,
     "metadata": {},
     "output_type": "execute_result"
    }
   ],
   "source": [
    "#Linear Model\n",
    "\n",
    "lr = LinearRegression()\n",
    "lr.fit(X_train,y_train)\n",
    "lr_train_score = lr.score(X_train,y_train)\n",
    "lr_test_score = lr.score(X_test, y_test)\n",
    "\n",
    "lr_train_cvscore = cross_val_score(lr, X_train,y_train, cv=3).mean()\n",
    "lr_test_cvscore = cross_val_score(lr, X_test,y_test, cv=3).mean()\n",
    "results = list()\n",
    "result_1 = {'name':'Linear Regression','dataset' : 'train','data type': 'raw','model': lr, \n",
    "            'r2 score': round(lr_train_score,2), 'xval score': round(lr_train_cvscore,2)}\n",
    "results.append(result_1)\n",
    "result_2 = {'name':'Linear Regression','dataset' : 'test','data type': 'raw','model': lr,\n",
    "            'r2 score': round(lr_test_score,2), 'xval score': round(lr_test_cvscore,2)\n",
    "            }\n",
    "results.append(result_2)\n",
    "\n",
    "#Lasso\n",
    "lasso_xs = Lasso()\n",
    "lasso_xs.fit(Xs_train, y_train)\n",
    "lasso_train_score_scaled = lasso_xs.score(Xs_train,y_train)\n",
    "lasso_test_score_scaled = lasso_xs.score(Xs_test, y_test)\n",
    "\n",
    "lasso_train_cvscore_scaled = cross_val_score(lasso_xs, Xs_train,y_train, cv=10).mean()\n",
    "lasso_test_cvscore_scaled = cross_val_score(lasso_xs, Xs_test,y_test, cv=10).mean()\n",
    "\n",
    "results.append({'name':'Lasso','dataset' : 'train','data type': 'scaled',\n",
    "                'model': lasso_xs, 'r2 score': lasso_train_score_scaled,'xval score': lasso_train_cvscore_scaled})\n",
    "results.append({'name':'Lasso','dataset' : 'test','data type': 'scaled',\n",
    "                'model': lasso_xs,'r2 score': lasso_test_score_scaled,'xval score': lasso_test_cvscore_scaled})\n",
    "\n",
    "#Ridge\n",
    "ridge_sc = Ridge()\n",
    "ridge_sc.fit(Xs_train, y_train)\n",
    "ridge_train_score_scaled = ridge_sc.score(Xs_train,y_train)\n",
    "ridge_test_score_scaled= ridge_sc.score(Xs_test, y_test)\n",
    "\n",
    "ridge_train_cvscore_scaled = cross_val_score(ridge_sc, Xs_train,y_train, cv=10).mean()\n",
    "ridge_test_cvscore_scaled = cross_val_score(ridge_sc, Xs_test,y_test, cv=10).mean()\n",
    "\n",
    "\n",
    "results.append({'name':'Ridge','dataset' : 'train','data type': 'scaled',\n",
    "                'model': ridge_sc, 'r2 score': ridge_train_score_scaled,'xval score': ridge_train_cvscore_scaled})\n",
    "results.append({'name':'Ridge','dataset' : 'test','data type': 'scaled',\n",
    "                'model': ridge_sc,'r2 score': ridge_test_score_scaled, 'xval score': ridge_test_cvscore_scaled})\n",
    "\n",
    "elasticnet_sc = ElasticNet()\n",
    "elasticnet_sc.fit(Xs_train, y_train)\n",
    "elasticnet_train_score_scaled = elasticnet_sc.score(Xs_train,y_train)\n",
    "elasticnet_test_score_scaled= elasticnet_sc.score(Xs_test, y_test)\n",
    "\n",
    "elasticnet_train_cvscore_scaled = cross_val_score(elasticnet_sc, Xs_train,y_train, cv=10).mean()\n",
    "elasticnet_test_cvscore_scaled = cross_val_score(elasticnet_sc, Xs_test,y_test, cv=10).mean()\n",
    "\n",
    "\n",
    "results.append({'name':'Elasticnet','dataset' : 'train','data type': 'scaled',\n",
    "                'model': elasticnet_sc, 'r2 score': elasticnet_train_score_scaled,'xval score': elasticnet_train_cvscore_scaled})\n",
    "results.append({'name':'Elasticnet','dataset' : 'test','data type': 'scaled',\n",
    "                'model': elasticnet_sc,'r2 score': elasticnet_test_score_scaled, 'xval score': elasticnet_test_cvscore_scaled})\n",
    "pd.DataFrame(results)"
   ]
  },
  {
   "cell_type": "markdown",
   "metadata": {},
   "source": [
    "Train set seems to perform mildly better than the first model where Title was transformed using the count vectorizer but not much different when using the test set."
   ]
  },
  {
   "cell_type": "code",
   "execution_count": 703,
   "metadata": {},
   "outputs": [
    {
     "data": {
      "text/html": [
       "<div>\n",
       "<style scoped>\n",
       "    .dataframe tbody tr th:only-of-type {\n",
       "        vertical-align: middle;\n",
       "    }\n",
       "\n",
       "    .dataframe tbody tr th {\n",
       "        vertical-align: top;\n",
       "    }\n",
       "\n",
       "    .dataframe thead th {\n",
       "        text-align: right;\n",
       "    }\n",
       "</style>\n",
       "<table border=\"1\" class=\"dataframe\">\n",
       "  <thead>\n",
       "    <tr style=\"text-align: right;\">\n",
       "      <th></th>\n",
       "      <th>variable</th>\n",
       "      <th>ridge_coef</th>\n",
       "      <th>abs_ridge_coef</th>\n",
       "    </tr>\n",
       "  </thead>\n",
       "  <tbody>\n",
       "    <tr>\n",
       "      <th>62</th>\n",
       "      <td>h&amp;m</td>\n",
       "      <td>-19.515695</td>\n",
       "      <td>19.515695</td>\n",
       "    </tr>\n",
       "    <tr>\n",
       "      <th>2</th>\n",
       "      <td>a-in girls</td>\n",
       "      <td>18.362101</td>\n",
       "      <td>18.362101</td>\n",
       "    </tr>\n",
       "    <tr>\n",
       "      <th>172</th>\n",
       "      <td>zalora</td>\n",
       "      <td>-15.758293</td>\n",
       "      <td>15.758293</td>\n",
       "    </tr>\n",
       "    <tr>\n",
       "      <th>1630</th>\n",
       "      <td>size larger</td>\n",
       "      <td>-12.961997</td>\n",
       "      <td>12.961997</td>\n",
       "    </tr>\n",
       "    <tr>\n",
       "      <th>168</th>\n",
       "      <td>yg fitness</td>\n",
       "      <td>12.500015</td>\n",
       "      <td>12.500015</td>\n",
       "    </tr>\n",
       "    <tr>\n",
       "      <th>174</th>\n",
       "      <td>zalora basics</td>\n",
       "      <td>-12.186649</td>\n",
       "      <td>12.186649</td>\n",
       "    </tr>\n",
       "    <tr>\n",
       "      <th>139</th>\n",
       "      <td>something borrowed</td>\n",
       "      <td>-11.837879</td>\n",
       "      <td>11.837879</td>\n",
       "    </tr>\n",
       "    <tr>\n",
       "      <th>1649</th>\n",
       "      <td>sizing runs size</td>\n",
       "      <td>10.246385</td>\n",
       "      <td>10.246385</td>\n",
       "    </tr>\n",
       "    <tr>\n",
       "      <th>1458</th>\n",
       "      <td>revolve</td>\n",
       "      <td>10.193279</td>\n",
       "      <td>10.193279</td>\n",
       "    </tr>\n",
       "    <tr>\n",
       "      <th>9</th>\n",
       "      <td>asos design</td>\n",
       "      <td>-8.141552</td>\n",
       "      <td>8.141552</td>\n",
       "    </tr>\n",
       "    <tr>\n",
       "      <th>175</th>\n",
       "      <td>zara</td>\n",
       "      <td>-8.065658</td>\n",
       "      <td>8.065658</td>\n",
       "    </tr>\n",
       "    <tr>\n",
       "      <th>1960</th>\n",
       "      <td>unlined regular</td>\n",
       "      <td>7.991844</td>\n",
       "      <td>7.991844</td>\n",
       "    </tr>\n",
       "    <tr>\n",
       "      <th>990</th>\n",
       "      <td>just select</td>\n",
       "      <td>7.568875</td>\n",
       "      <td>7.568875</td>\n",
       "    </tr>\n",
       "    <tr>\n",
       "      <th>1961</th>\n",
       "      <td>unlined regular fit</td>\n",
       "      <td>-7.173387</td>\n",
       "      <td>7.173387</td>\n",
       "    </tr>\n",
       "    <tr>\n",
       "      <th>89</th>\n",
       "      <td>love bonito</td>\n",
       "      <td>-7.080932</td>\n",
       "      <td>7.080932</td>\n",
       "    </tr>\n",
       "    <tr>\n",
       "      <th>184</th>\n",
       "      <td>tops</td>\n",
       "      <td>-6.984374</td>\n",
       "      <td>6.984374</td>\n",
       "    </tr>\n",
       "    <tr>\n",
       "      <th>143</th>\n",
       "      <td>superdown</td>\n",
       "      <td>-6.977661</td>\n",
       "      <td>6.977661</td>\n",
       "    </tr>\n",
       "    <tr>\n",
       "      <th>1734</th>\n",
       "      <td>smooth woven fabric</td>\n",
       "      <td>-6.805479</td>\n",
       "      <td>6.805479</td>\n",
       "    </tr>\n",
       "    <tr>\n",
       "      <th>1733</th>\n",
       "      <td>smooth woven</td>\n",
       "      <td>6.799270</td>\n",
       "      <td>6.799270</td>\n",
       "    </tr>\n",
       "    <tr>\n",
       "      <th>134</th>\n",
       "      <td>runway bandits</td>\n",
       "      <td>-6.787477</td>\n",
       "      <td>6.787477</td>\n",
       "    </tr>\n",
       "    <tr>\n",
       "      <th>545</th>\n",
       "      <td>depending</td>\n",
       "      <td>-6.420975</td>\n",
       "      <td>6.420975</td>\n",
       "    </tr>\n",
       "    <tr>\n",
       "      <th>1536</th>\n",
       "      <td>runs size larger</td>\n",
       "      <td>6.393513</td>\n",
       "      <td>6.393513</td>\n",
       "    </tr>\n",
       "    <tr>\n",
       "      <th>1236</th>\n",
       "      <td>neckline regular</td>\n",
       "      <td>6.355955</td>\n",
       "      <td>6.355955</td>\n",
       "    </tr>\n",
       "    <tr>\n",
       "      <th>96</th>\n",
       "      <td>mango</td>\n",
       "      <td>-6.215100</td>\n",
       "      <td>6.215100</td>\n",
       "    </tr>\n",
       "    <tr>\n",
       "      <th>72</th>\n",
       "      <td>its me</td>\n",
       "      <td>6.190394</td>\n",
       "      <td>6.190394</td>\n",
       "    </tr>\n",
       "    <tr>\n",
       "      <th>179</th>\n",
       "      <td>lingerie</td>\n",
       "      <td>-6.181549</td>\n",
       "      <td>6.181549</td>\n",
       "    </tr>\n",
       "    <tr>\n",
       "      <th>120</th>\n",
       "      <td>pomelo</td>\n",
       "      <td>-6.181508</td>\n",
       "      <td>6.181508</td>\n",
       "    </tr>\n",
       "    <tr>\n",
       "      <th>1237</th>\n",
       "      <td>neckline regular fit</td>\n",
       "      <td>-6.131677</td>\n",
       "      <td>6.131677</td>\n",
       "    </tr>\n",
       "    <tr>\n",
       "      <th>35</th>\n",
       "      <td>cotton on</td>\n",
       "      <td>-6.084451</td>\n",
       "      <td>6.084451</td>\n",
       "    </tr>\n",
       "    <tr>\n",
       "      <th>1535</th>\n",
       "      <td>runs size</td>\n",
       "      <td>-6.031662</td>\n",
       "      <td>6.031662</td>\n",
       "    </tr>\n",
       "    <tr>\n",
       "      <th>...</th>\n",
       "      <td>...</td>\n",
       "      <td>...</td>\n",
       "      <td>...</td>\n",
       "    </tr>\n",
       "    <tr>\n",
       "      <th>132</th>\n",
       "      <td>river island</td>\n",
       "      <td>-3.048604</td>\n",
       "      <td>3.048604</td>\n",
       "    </tr>\n",
       "    <tr>\n",
       "      <th>1640</th>\n",
       "      <td>size satin</td>\n",
       "      <td>3.037403</td>\n",
       "      <td>3.037403</td>\n",
       "    </tr>\n",
       "    <tr>\n",
       "      <th>1238</th>\n",
       "      <td>neckline relaxed</td>\n",
       "      <td>3.019670</td>\n",
       "      <td>3.019670</td>\n",
       "    </tr>\n",
       "    <tr>\n",
       "      <th>753</th>\n",
       "      <td>fit button</td>\n",
       "      <td>3.008438</td>\n",
       "      <td>3.008438</td>\n",
       "    </tr>\n",
       "    <tr>\n",
       "      <th>1497</th>\n",
       "      <td>rise unlined</td>\n",
       "      <td>-2.995457</td>\n",
       "      <td>2.995457</td>\n",
       "    </tr>\n",
       "    <tr>\n",
       "      <th>151</th>\n",
       "      <td>topshop</td>\n",
       "      <td>-2.924163</td>\n",
       "      <td>2.924163</td>\n",
       "    </tr>\n",
       "    <tr>\n",
       "      <th>36</th>\n",
       "      <td>cotton on body</td>\n",
       "      <td>-2.895190</td>\n",
       "      <td>2.895190</td>\n",
       "    </tr>\n",
       "    <tr>\n",
       "      <th>152</th>\n",
       "      <td>tularosa</td>\n",
       "      <td>2.866068</td>\n",
       "      <td>2.866068</td>\n",
       "    </tr>\n",
       "    <tr>\n",
       "      <th>148</th>\n",
       "      <td>tokichoi</td>\n",
       "      <td>-2.852490</td>\n",
       "      <td>2.852490</td>\n",
       "    </tr>\n",
       "    <tr>\n",
       "      <th>1111</th>\n",
       "      <td>long cuffed</td>\n",
       "      <td>-2.846745</td>\n",
       "      <td>2.846745</td>\n",
       "    </tr>\n",
       "    <tr>\n",
       "      <th>108</th>\n",
       "      <td>new look</td>\n",
       "      <td>-2.795601</td>\n",
       "      <td>2.795601</td>\n",
       "    </tr>\n",
       "    <tr>\n",
       "      <th>122</th>\n",
       "      <td>prettylittlething</td>\n",
       "      <td>-2.795592</td>\n",
       "      <td>2.795592</td>\n",
       "    </tr>\n",
       "    <tr>\n",
       "      <th>22</th>\n",
       "      <td>brave soul</td>\n",
       "      <td>-2.792131</td>\n",
       "      <td>2.792131</td>\n",
       "    </tr>\n",
       "    <tr>\n",
       "      <th>1270</th>\n",
       "      <td>outdoor sports comfortable</td>\n",
       "      <td>-2.742084</td>\n",
       "      <td>2.742084</td>\n",
       "    </tr>\n",
       "    <tr>\n",
       "      <th>1777</th>\n",
       "      <td>sports comfortable fabric</td>\n",
       "      <td>-2.742084</td>\n",
       "      <td>2.742084</td>\n",
       "    </tr>\n",
       "    <tr>\n",
       "      <th>1776</th>\n",
       "      <td>sports comfortable</td>\n",
       "      <td>-2.742084</td>\n",
       "      <td>2.742084</td>\n",
       "    </tr>\n",
       "    <tr>\n",
       "      <th>61</th>\n",
       "      <td>guess</td>\n",
       "      <td>2.711043</td>\n",
       "      <td>2.711043</td>\n",
       "    </tr>\n",
       "    <tr>\n",
       "      <th>967</th>\n",
       "      <td>jacket</td>\n",
       "      <td>2.708531</td>\n",
       "      <td>2.708531</td>\n",
       "    </tr>\n",
       "    <tr>\n",
       "      <th>1112</th>\n",
       "      <td>long cuffed sleeves</td>\n",
       "      <td>2.652227</td>\n",
       "      <td>2.652227</td>\n",
       "    </tr>\n",
       "    <tr>\n",
       "      <th>77</th>\n",
       "      <td>kodz</td>\n",
       "      <td>-2.634522</td>\n",
       "      <td>2.634522</td>\n",
       "    </tr>\n",
       "    <tr>\n",
       "      <th>372</th>\n",
       "      <td>calvin</td>\n",
       "      <td>2.629132</td>\n",
       "      <td>2.629132</td>\n",
       "    </tr>\n",
       "    <tr>\n",
       "      <th>169</th>\n",
       "      <td>yoco</td>\n",
       "      <td>-2.624177</td>\n",
       "      <td>2.624177</td>\n",
       "    </tr>\n",
       "    <tr>\n",
       "      <th>1239</th>\n",
       "      <td>neckline relaxed fit</td>\n",
       "      <td>-2.602650</td>\n",
       "      <td>2.602650</td>\n",
       "    </tr>\n",
       "    <tr>\n",
       "      <th>181</th>\n",
       "      <td>outerwear</td>\n",
       "      <td>-2.574793</td>\n",
       "      <td>2.574793</td>\n",
       "    </tr>\n",
       "    <tr>\n",
       "      <th>266</th>\n",
       "      <td>attention</td>\n",
       "      <td>2.571250</td>\n",
       "      <td>2.571250</td>\n",
       "    </tr>\n",
       "    <tr>\n",
       "      <th>920</th>\n",
       "      <td>high rise unlined</td>\n",
       "      <td>2.567130</td>\n",
       "      <td>2.567130</td>\n",
       "    </tr>\n",
       "    <tr>\n",
       "      <th>1511</th>\n",
       "      <td>round</td>\n",
       "      <td>-2.544713</td>\n",
       "      <td>2.544713</td>\n",
       "    </tr>\n",
       "    <tr>\n",
       "      <th>448</th>\n",
       "      <td>considerable</td>\n",
       "      <td>-2.543378</td>\n",
       "      <td>2.543378</td>\n",
       "    </tr>\n",
       "    <tr>\n",
       "      <th>67</th>\n",
       "      <td>hopeshow</td>\n",
       "      <td>-2.521221</td>\n",
       "      <td>2.521221</td>\n",
       "    </tr>\n",
       "    <tr>\n",
       "      <th>1125</th>\n",
       "      <td>loops</td>\n",
       "      <td>2.511092</td>\n",
       "      <td>2.511092</td>\n",
       "    </tr>\n",
       "  </tbody>\n",
       "</table>\n",
       "<p>100 rows × 3 columns</p>\n",
       "</div>"
      ],
      "text/plain": [
       "                        variable  ridge_coef  abs_ridge_coef\n",
       "62                           h&m  -19.515695       19.515695\n",
       "2                     a-in girls   18.362101       18.362101\n",
       "172                       zalora  -15.758293       15.758293\n",
       "1630                 size larger  -12.961997       12.961997\n",
       "168                   yg fitness   12.500015       12.500015\n",
       "174                zalora basics  -12.186649       12.186649\n",
       "139           something borrowed  -11.837879       11.837879\n",
       "1649            sizing runs size   10.246385       10.246385\n",
       "1458                     revolve   10.193279       10.193279\n",
       "9                    asos design   -8.141552        8.141552\n",
       "175                         zara   -8.065658        8.065658\n",
       "1960             unlined regular    7.991844        7.991844\n",
       "990                  just select    7.568875        7.568875\n",
       "1961         unlined regular fit   -7.173387        7.173387\n",
       "89                   love bonito   -7.080932        7.080932\n",
       "184                         tops   -6.984374        6.984374\n",
       "143                    superdown   -6.977661        6.977661\n",
       "1734         smooth woven fabric   -6.805479        6.805479\n",
       "1733                smooth woven    6.799270        6.799270\n",
       "134               runway bandits   -6.787477        6.787477\n",
       "545                    depending   -6.420975        6.420975\n",
       "1536            runs size larger    6.393513        6.393513\n",
       "1236            neckline regular    6.355955        6.355955\n",
       "96                         mango   -6.215100        6.215100\n",
       "72                        its me    6.190394        6.190394\n",
       "179                     lingerie   -6.181549        6.181549\n",
       "120                       pomelo   -6.181508        6.181508\n",
       "1237        neckline regular fit   -6.131677        6.131677\n",
       "35                     cotton on   -6.084451        6.084451\n",
       "1535                   runs size   -6.031662        6.031662\n",
       "...                          ...         ...             ...\n",
       "132                 river island   -3.048604        3.048604\n",
       "1640                  size satin    3.037403        3.037403\n",
       "1238            neckline relaxed    3.019670        3.019670\n",
       "753                   fit button    3.008438        3.008438\n",
       "1497                rise unlined   -2.995457        2.995457\n",
       "151                      topshop   -2.924163        2.924163\n",
       "36                cotton on body   -2.895190        2.895190\n",
       "152                     tularosa    2.866068        2.866068\n",
       "148                     tokichoi   -2.852490        2.852490\n",
       "1111                 long cuffed   -2.846745        2.846745\n",
       "108                     new look   -2.795601        2.795601\n",
       "122            prettylittlething   -2.795592        2.795592\n",
       "22                    brave soul   -2.792131        2.792131\n",
       "1270  outdoor sports comfortable   -2.742084        2.742084\n",
       "1777   sports comfortable fabric   -2.742084        2.742084\n",
       "1776          sports comfortable   -2.742084        2.742084\n",
       "61                         guess    2.711043        2.711043\n",
       "967                       jacket    2.708531        2.708531\n",
       "1112         long cuffed sleeves    2.652227        2.652227\n",
       "77                          kodz   -2.634522        2.634522\n",
       "372                       calvin    2.629132        2.629132\n",
       "169                         yoco   -2.624177        2.624177\n",
       "1239        neckline relaxed fit   -2.602650        2.602650\n",
       "181                    outerwear   -2.574793        2.574793\n",
       "266                    attention    2.571250        2.571250\n",
       "920            high rise unlined    2.567130        2.567130\n",
       "1511                       round   -2.544713        2.544713\n",
       "448                 considerable   -2.543378        2.543378\n",
       "67                      hopeshow   -2.521221        2.521221\n",
       "1125                       loops    2.511092        2.511092\n",
       "\n",
       "[100 rows x 3 columns]"
      ]
     },
     "execution_count": 703,
     "metadata": {},
     "output_type": "execute_result"
    }
   ],
   "source": [
    "ridge_coefs = pd.DataFrame({'variable':X.columns,\n",
    "                            'ridge_coef':ridge_sc.coef_,\n",
    "                            'abs_ridge_coef':np.abs(ridge_sc.coef_)})\n",
    "\n",
    "ridge_coefs.sort_values('abs_ridge_coef', inplace=True, ascending=False)\n",
    "\n",
    "ridge_coefs.head(100)"
   ]
  },
  {
   "cell_type": "code",
   "execution_count": 706,
   "metadata": {},
   "outputs": [
    {
     "data": {
      "image/png": "[encoded data removed]",
      "text/plain": [
       "<Figure size 2160x2160 with 2 Axes>"
      ]
     },
     "metadata": {
      "needs_background": "light"
     },
     "output_type": "display_data"
    },
    {
     "name": "stdout",
     "output_type": "stream",
     "text": [
      "RMSE:\n",
      "46.67653141185657\n"
     ]
    }
   ],
   "source": [
    "predicted = ridge_sc.predict(X_test)\n",
    "residual = y_test - predicted\n",
    "\n",
    "fig = plt.figure(figsize=(30,30))\n",
    "ax1 = plt.subplot(211)\n",
    "sns.distplot(residual, color ='teal')\n",
    "plt.tick_params(axis='both', which='major', labelsize=20)\n",
    "plt.title('Residual counts',fontsize=35)\n",
    "plt.xlabel('Residual',fontsize=25)\n",
    "plt.ylabel('Count',fontsize=25)\n",
    "\n",
    "ax2 = plt.subplot(212)\n",
    "plt.scatter(predicted, residual, color ='teal')\n",
    "plt.tick_params(axis='both', which='major', labelsize=20)\n",
    "plt.xlabel('Predicted',fontsize=25)\n",
    "plt.ylabel('Residual',fontsize=25)\n",
    "plt.axhline(y=0)\n",
    "plt.title('Residual vs. Predicted',fontsize=35)\n",
    "\n",
    "plt.show()\n",
    "\n",
    "from sklearn.metrics import mean_squared_error\n",
    "rmse = np.sqrt(mean_squared_error(y_test, predicted))\n",
    "print('RMSE:')\n",
    "print(rmse)"
   ]
  },
  {
   "cell_type": "markdown",
   "metadata": {},
   "source": [
    "#### Modelling: KNN"
   ]
  },
  {
   "cell_type": "code",
   "execution_count": 359,
   "metadata": {},
   "outputs": [
    {
     "data": {
      "image/png": "[encoded data removed]",
      "text/plain": [
       "<Figure size 2160x2160 with 2 Axes>"
      ]
     },
     "metadata": {
      "needs_background": "light"
     },
     "output_type": "display_data"
    },
    {
     "name": "stdout",
     "output_type": "stream",
     "text": [
      "RMSE:\n",
      "23.636489516978937\n"
     ]
    }
   ],
   "source": [
    "\n",
    "from sklearn import neighbors\n",
    "# the value of n_neighbors will be changed when we plot the histogram showing the lowest RMSE value\n",
    "knn = neighbors.KNeighborsRegressor(n_neighbors=6)\n",
    "knn.fit(X_train, y_train)\n",
    "\n",
    "predicted = knn.predict(X_test)\n",
    "residual = y_test - predicted\n",
    "\n",
    "fig = plt.figure(figsize=(30,30))\n",
    "ax1 = plt.subplot(211)\n",
    "sns.distplot(residual, color ='teal')\n",
    "plt.tick_params(axis='both', which='major', labelsize=20)\n",
    "plt.title('Residual counts',fontsize=35)\n",
    "plt.xlabel('Residual',fontsize=25)\n",
    "plt.ylabel('Count',fontsize=25)\n",
    "\n",
    "ax2 = plt.subplot(212)\n",
    "plt.scatter(predicted, residual, color ='teal')\n",
    "plt.tick_params(axis='both', which='major', labelsize=20)\n",
    "plt.xlabel('Predicted',fontsize=25)\n",
    "plt.ylabel('Residual',fontsize=25)\n",
    "plt.axhline(y=0)\n",
    "plt.title('Residual vs. Predicted',fontsize=35)\n",
    "\n",
    "plt.show()\n",
    "\n",
    "from sklearn.metrics import mean_squared_error\n",
    "rmse = np.sqrt(mean_squared_error(y_test, predicted))\n",
    "print('RMSE:')\n",
    "print(rmse)\n"
   ]
  },
  {
   "cell_type": "code",
   "execution_count": 361,
   "metadata": {},
   "outputs": [
    {
     "name": "stdout",
     "output_type": "stream",
     "text": [
      "Variance score: 0.83\n"
     ]
    }
   ],
   "source": [
    "print('Variance score: %.2f' % r2_score(y_test, predicted))"
   ]
  },
  {
   "cell_type": "markdown",
   "metadata": {},
   "source": [
    "## Gradient Boosting"
   ]
  },
  {
   "cell_type": "code",
   "execution_count": 705,
   "metadata": {},
   "outputs": [
    {
     "ename": "ValueError",
     "evalue": "Expected 2D array, got 1D array instead:\narray=[ 24.9   56.9  183.75 ...  92.9   24.99  74.11].\nReshape your data either using array.reshape(-1, 1) if your data has a single feature or array.reshape(1, -1) if it contains a single sample.",
     "output_type": "error",
     "traceback": [
      "\u001b[0;31m---------------------------------------------------------------------------\u001b[0m",
      "\u001b[0;31mValueError\u001b[0m                                Traceback (most recent call last)",
      "\u001b[0;32m<ipython-input-705-b12bf11d4d2b>\u001b[0m in \u001b[0;36m<module>\u001b[0;34m\u001b[0m\n\u001b[1;32m      4\u001b[0m \u001b[0mgbr\u001b[0m \u001b[0;34m=\u001b[0m \u001b[0mGradientBoostingRegressor\u001b[0m\u001b[0;34m(\u001b[0m\u001b[0mloss\u001b[0m \u001b[0;34m=\u001b[0m\u001b[0;34m'ls'\u001b[0m\u001b[0;34m,\u001b[0m \u001b[0mmax_depth\u001b[0m\u001b[0;34m=\u001b[0m\u001b[0;36m6\u001b[0m\u001b[0;34m)\u001b[0m\u001b[0;34m\u001b[0m\u001b[0;34m\u001b[0m\u001b[0m\n\u001b[1;32m      5\u001b[0m \u001b[0mgbr\u001b[0m\u001b[0;34m.\u001b[0m\u001b[0mfit\u001b[0m\u001b[0;34m(\u001b[0m\u001b[0mX_train\u001b[0m\u001b[0;34m,\u001b[0m \u001b[0my_train\u001b[0m\u001b[0;34m)\u001b[0m\u001b[0;34m\u001b[0m\u001b[0;34m\u001b[0m\u001b[0m\n\u001b[0;32m----> 6\u001b[0;31m \u001b[0mpredicted\u001b[0m \u001b[0;34m=\u001b[0m \u001b[0mgbr\u001b[0m\u001b[0;34m.\u001b[0m\u001b[0mpredict\u001b[0m\u001b[0;34m(\u001b[0m\u001b[0my_test\u001b[0m\u001b[0;34m)\u001b[0m\u001b[0;34m\u001b[0m\u001b[0;34m\u001b[0m\u001b[0m\n\u001b[0m\u001b[1;32m      7\u001b[0m \u001b[0mresidual\u001b[0m \u001b[0;34m=\u001b[0m \u001b[0my_test\u001b[0m \u001b[0;34m-\u001b[0m \u001b[0mpredicted\u001b[0m\u001b[0;34m\u001b[0m\u001b[0;34m\u001b[0m\u001b[0m\n\u001b[1;32m      8\u001b[0m \u001b[0;34m\u001b[0m\u001b[0m\n",
      "\u001b[0;32m~/anaconda3/lib/python3.7/site-packages/sklearn/ensemble/gradient_boosting.py\u001b[0m in \u001b[0;36mpredict\u001b[0;34m(self, X)\u001b[0m\n\u001b[1;32m   2528\u001b[0m             \u001b[0mThe\u001b[0m \u001b[0mpredicted\u001b[0m \u001b[0mvalues\u001b[0m\u001b[0;34m.\u001b[0m\u001b[0;34m\u001b[0m\u001b[0;34m\u001b[0m\u001b[0m\n\u001b[1;32m   2529\u001b[0m         \"\"\"\n\u001b[0;32m-> 2530\u001b[0;31m         \u001b[0mX\u001b[0m \u001b[0;34m=\u001b[0m \u001b[0mcheck_array\u001b[0m\u001b[0;34m(\u001b[0m\u001b[0mX\u001b[0m\u001b[0;34m,\u001b[0m \u001b[0mdtype\u001b[0m\u001b[0;34m=\u001b[0m\u001b[0mDTYPE\u001b[0m\u001b[0;34m,\u001b[0m \u001b[0morder\u001b[0m\u001b[0;34m=\u001b[0m\u001b[0;34m\"C\"\u001b[0m\u001b[0;34m,\u001b[0m \u001b[0maccept_sparse\u001b[0m\u001b[0;34m=\u001b[0m\u001b[0;34m'csr'\u001b[0m\u001b[0;34m)\u001b[0m\u001b[0;34m\u001b[0m\u001b[0;34m\u001b[0m\u001b[0m\n\u001b[0m\u001b[1;32m   2531\u001b[0m         \u001b[0;31m# In regression we can directly return the raw value from the trees.\u001b[0m\u001b[0;34m\u001b[0m\u001b[0;34m\u001b[0m\u001b[0;34m\u001b[0m\u001b[0m\n\u001b[1;32m   2532\u001b[0m         \u001b[0;32mreturn\u001b[0m \u001b[0mself\u001b[0m\u001b[0;34m.\u001b[0m\u001b[0m_raw_predict\u001b[0m\u001b[0;34m(\u001b[0m\u001b[0mX\u001b[0m\u001b[0;34m)\u001b[0m\u001b[0;34m.\u001b[0m\u001b[0mravel\u001b[0m\u001b[0;34m(\u001b[0m\u001b[0;34m)\u001b[0m\u001b[0;34m\u001b[0m\u001b[0;34m\u001b[0m\u001b[0m\n",
      "\u001b[0;32m~/anaconda3/lib/python3.7/site-packages/sklearn/utils/validation.py\u001b[0m in \u001b[0;36mcheck_array\u001b[0;34m(array, accept_sparse, accept_large_sparse, dtype, order, copy, force_all_finite, ensure_2d, allow_nd, ensure_min_samples, ensure_min_features, warn_on_dtype, estimator)\u001b[0m\n\u001b[1;32m    519\u001b[0m                     \u001b[0;34m\"Reshape your data either using array.reshape(-1, 1) if \"\u001b[0m\u001b[0;34m\u001b[0m\u001b[0;34m\u001b[0m\u001b[0m\n\u001b[1;32m    520\u001b[0m                     \u001b[0;34m\"your data has a single feature or array.reshape(1, -1) \"\u001b[0m\u001b[0;34m\u001b[0m\u001b[0;34m\u001b[0m\u001b[0m\n\u001b[0;32m--> 521\u001b[0;31m                     \"if it contains a single sample.\".format(array))\n\u001b[0m\u001b[1;32m    522\u001b[0m \u001b[0;34m\u001b[0m\u001b[0m\n\u001b[1;32m    523\u001b[0m         \u001b[0;31m# in the future np.flexible dtypes will be handled like object dtypes\u001b[0m\u001b[0;34m\u001b[0m\u001b[0;34m\u001b[0m\u001b[0;34m\u001b[0m\u001b[0m\n",
      "\u001b[0;31mValueError\u001b[0m: Expected 2D array, got 1D array instead:\narray=[ 24.9   56.9  183.75 ...  92.9   24.99  74.11].\nReshape your data either using array.reshape(-1, 1) if your data has a single feature or array.reshape(1, -1) if it contains a single sample."
     ]
    }
   ],
   "source": [
    "from sklearn.ensemble import GradientBoostingRegressor\n",
    "from sklearn.model_selection import cross_val_score\n",
    "\n",
    "gbr = GradientBoostingRegressor(loss ='ls', max_depth=6)\n",
    "gbr.fit(X_train, y_train)\n",
    "predicted = gbr.predict(y_test)\n",
    "residual = y_test - predicted\n",
    "\n",
    "fig = plt.figure(figsize=(30,30))\n",
    "ax1 = plt.subplot(211)\n",
    "sns.distplot(residual, color ='teal')\n",
    "plt.tick_params(axis='both', which='major', labelsize=20)\n",
    "plt.title('Residual counts',fontsize=35)\n",
    "plt.xlabel('Residual',fontsize=25)\n",
    "plt.ylabel('Count',fontsize=25)\n",
    "\n",
    "ax2 = plt.subplot(212)\n",
    "plt.scatter(predicted, residual, color ='teal')\n",
    "plt.tick_params(axis='both', which='major', labelsize=20)\n",
    "plt.xlabel('Predicted',fontsize=25)\n",
    "plt.ylabel('Residual',fontsize=25)\n",
    "plt.axhline(y=0)\n",
    "plt.title('Residual vs. Predicted',fontsize=35)\n",
    "\n",
    "plt.show()\n",
    "\n",
    "rmse = np.sqrt(mean_squared_error(y_test, predicted))\n",
    "scores = cross_val_score(gbr, X, y, cv=12)\n",
    "\n",
    "print('\\nCross Validation Scores:')\n",
    "print(scores)\n",
    "print('\\nMean Score:')\n",
    "print(scores.mean())\n",
    "print('\\nRMSE:')\n",
    "print(rmse)"
   ]
  },
  {
   "cell_type": "markdown",
   "metadata": {},
   "source": [
    "## 4. Choosing final model"
   ]
  },
  {
   "cell_type": "code",
   "execution_count": 721,
   "metadata": {},
   "outputs": [],
   "source": [
    "df = pd.read_csv(\"clean_dataset.csv\")\n",
    "\n",
    "df.drop(columns=['Unnamed: 0'], inplace=True)\n",
    "\n",
    "df.columns\n",
    "\n",
    "df['text'] = df['title'] + ' ' + df['description']\n",
    "\n",
    "df.drop(columns=['title','description','colour'], inplace= True)"
   ]
  },
  {
   "cell_type": "code",
   "execution_count": 722,
   "metadata": {},
   "outputs": [],
   "source": [
    "features = [x for x in df.columns if (x!= 'price') ]\n",
    "\n",
    "X = df[features]\n",
    "y= df['price']\n",
    "\n",
    "X_train, X_test, y_train, y_test = train_test_split(X, y, test_size=0.3)"
   ]
  },
  {
   "cell_type": "code",
   "execution_count": 723,
   "metadata": {},
   "outputs": [],
   "source": [
    "from sklearn.preprocessing import StandardScaler, OneHotEncoder\n",
    "from sklearn.compose import ColumnTransformer, make_column_transformer\n",
    "from sklearn.pipeline import make_pipeline"
   ]
  },
  {
   "cell_type": "code",
   "execution_count": 749,
   "metadata": {},
   "outputs": [],
   "source": [
    "# imputer = make_column_transformer(\n",
    "# (make_pipeline(SimpleImputer(strategy='missing',fill_value='missing'), 'brand'),\n",
    "# (make_pipeline(SimpleImputer(strategy='missing',fill_value='missing'), 'category'),\n",
    "#     (make_pipeline(SimpleImputer(strategy='missing',fill_value='missing'), 'text'),\n",
    "#     )"
   ]
  },
  {
   "cell_type": "code",
   "execution_count": null,
   "metadata": {},
   "outputs": [],
   "source": [
    "\n",
    "\n",
    "# categorical_transformer = Pipeline(steps = [('imputer', SimpleImputer(strategy='constant', fill_value='missing')),(\"onehot\", OneHotEncoder(handle_unknown = 'ignore'))])\n",
    "\n",
    "# preprocessor = ColumnTransformer(transformers = [(\"num\", numeric_transformer,numeric),(\"cat\",categorial_transformer, cat )])\n"
   ]
  },
  {
   "cell_type": "code",
   "execution_count": 743,
   "metadata": {},
   "outputs": [
    {
     "name": "stderr",
     "output_type": "stream",
     "text": [
      "/Users/lynn/anaconda3/lib/python3.7/site-packages/sklearn/compose/_column_transformer.py:751: DeprecationWarning: `make_column_transformer` now expects (transformer, columns) as input tuples instead of (columns, transformer). This has been introduced in v0.20.1. `make_column_transformer` will stop accepting the deprecated (columns, transformer) order in v0.22.\n",
      "  warnings.warn(message, DeprecationWarning)\n"
     ]
    }
   ],
   "source": [
    "preprocess = make_column_transformer(\n",
    "    ('brand', CountVectorizer(max_features=2000)),\n",
    "     ('category', CountVectorizer(max_features=2000)),\n",
    "    ('text', TfidfVectorizer(max_features=2000,ngram_range=(1, 3), stop_words='english'))\n",
    ")"
   ]
  },
  {
   "cell_type": "code",
   "execution_count": 748,
   "metadata": {},
   "outputs": [
    {
     "data": {
      "text/plain": [
       "<54845x2746 sparse matrix of type '<class 'numpy.float64'>'\n",
       "\twith 1856943 stored elements in Compressed Sparse Row format>"
      ]
     },
     "execution_count": 748,
     "metadata": {},
     "output_type": "execute_result"
    }
   ],
   "source": [
    "preprocess.fit_transform(X_train)"
   ]
  },
  {
   "cell_type": "code",
   "execution_count": 726,
   "metadata": {},
   "outputs": [
    {
     "data": {
      "text/html": [
       "<div>\n",
       "<style scoped>\n",
       "    .dataframe tbody tr th:only-of-type {\n",
       "        vertical-align: middle;\n",
       "    }\n",
       "\n",
       "    .dataframe tbody tr th {\n",
       "        vertical-align: top;\n",
       "    }\n",
       "\n",
       "    .dataframe thead th {\n",
       "        text-align: right;\n",
       "    }\n",
       "</style>\n",
       "<table border=\"1\" class=\"dataframe\">\n",
       "  <thead>\n",
       "    <tr style=\"text-align: right;\">\n",
       "      <th></th>\n",
       "      <th>brand</th>\n",
       "      <th>category</th>\n",
       "      <th>text</th>\n",
       "    </tr>\n",
       "  </thead>\n",
       "  <tbody>\n",
       "    <tr>\n",
       "      <th>60307</th>\n",
       "      <td>h&amp;m</td>\n",
       "      <td>jeans</td>\n",
       "      <td>girlfriend regular jeans 5 pocket, ankle length jeans in washed stretch denim. slightly looser fit with a regular waist and zip fly with button. slightly dropped gusset and tapered legs with raw edge hems. cotton 99%, elastane 1%</td>\n",
       "    </tr>\n",
       "    <tr>\n",
       "      <th>8243</th>\n",
       "      <td>mango</td>\n",
       "      <td>skirts</td>\n",
       "      <td>plaid mini skirt   plaid print waist belt mini skirt   sizing runs one size larger   lined   mid rise   regular fit   waist belt fastening   2 front side pockets   cotton blend</td>\n",
       "    </tr>\n",
       "    <tr>\n",
       "      <th>49411</th>\n",
       "      <td>lipsy</td>\n",
       "      <td>outerwear</td>\n",
       "      <td>lipsy knitted jumper with gold button detail in black worth making plans for ribbed finish high neck button detail long sleeves regular fit just select your usual size            lightweight knit the kind that stretches  fabric: 70% viscose, 30% polyamide.</td>\n",
       "    </tr>\n",
       "    <tr>\n",
       "      <th>40897</th>\n",
       "      <td>banana republic</td>\n",
       "      <td>tops</td>\n",
       "      <td>inverted v-neck blouse   patterned print rounded hem top   v neckline   unlined   regular fit   polyester</td>\n",
       "    </tr>\n",
       "    <tr>\n",
       "      <th>15024</th>\n",
       "      <td>zalora</td>\n",
       "      <td>dresses</td>\n",
       "      <td>pleat detailed sheath dress   side pleat detail sheath dress   high neckline   unlined   regular fit   back zip fastening   polyester</td>\n",
       "    </tr>\n",
       "  </tbody>\n",
       "</table>\n",
       "</div>"
      ],
      "text/plain": [
       "                 brand   category  \\\n",
       "60307              h&m      jeans   \n",
       "8243             mango     skirts   \n",
       "49411            lipsy  outerwear   \n",
       "40897  banana republic       tops   \n",
       "15024           zalora    dresses   \n",
       "\n",
       "                                                                                                                                                                                                                                                                   text  \n",
       "60307                             girlfriend regular jeans 5 pocket, ankle length jeans in washed stretch denim. slightly looser fit with a regular waist and zip fly with button. slightly dropped gusset and tapered legs with raw edge hems. cotton 99%, elastane 1%  \n",
       "8243                                                                                   plaid mini skirt   plaid print waist belt mini skirt   sizing runs one size larger   lined   mid rise   regular fit   waist belt fastening   2 front side pockets   cotton blend  \n",
       "49411  lipsy knitted jumper with gold button detail in black worth making plans for ribbed finish high neck button detail long sleeves regular fit just select your usual size            lightweight knit the kind that stretches  fabric: 70% viscose, 30% polyamide.  \n",
       "40897                                                                                                                                                         inverted v-neck blouse   patterned print rounded hem top   v neckline   unlined   regular fit   polyester  \n",
       "15024                                                                                                                          pleat detailed sheath dress   side pleat detail sheath dress   high neckline   unlined   regular fit   back zip fastening   polyester     "
      ]
     },
     "execution_count": 726,
     "metadata": {},
     "output_type": "execute_result"
    }
   ],
   "source": [
    "X_train.head()"
   ]
  },
  {
   "cell_type": "code",
   "execution_count": 727,
   "metadata": {},
   "outputs": [],
   "source": [
    "from sklearn.pipeline import make_pipeline\n",
    "model = make_pipeline(imputer,preprocess, neighbors.KNeighborsRegressor(n_neighbors=6))"
   ]
  },
  {
   "cell_type": "code",
   "execution_count": 728,
   "metadata": {},
   "outputs": [
    {
     "data": {
      "text/plain": [
       "Pipeline(memory=None,\n",
       "         steps=[('columntransformer',\n",
       "                 ColumnTransformer(n_jobs=None, remainder='drop',\n",
       "                                   sparse_threshold=0.3,\n",
       "                                   transformer_weights=None,\n",
       "                                   transformers=[('countvectorizer-1',\n",
       "                                                  CountVectorizer(analyzer='word',\n",
       "                                                                  binary=False,\n",
       "                                                                  decode_error='strict',\n",
       "                                                                  dtype=<class 'numpy.int64'>,\n",
       "                                                                  encoding='utf-8',\n",
       "                                                                  input='content',\n",
       "                                                                  lowercase=True,\n",
       "                                                                  max_df=1.0,\n",
       "                                                                  max_features=2000,\n",
       "                                                                  mi...\n",
       "                                                                  smooth_idf=True,\n",
       "                                                                  stop_words='english',\n",
       "                                                                  strip_accents=None,\n",
       "                                                                  sublinear_tf=False,\n",
       "                                                                  token_pattern='(?u)\\\\b\\\\w\\\\w+\\\\b',\n",
       "                                                                  tokenizer=None,\n",
       "                                                                  use_idf=True,\n",
       "                                                                  vocabulary=None),\n",
       "                                                  'text')],\n",
       "                                   verbose=False)),\n",
       "                ('kneighborsregressor',\n",
       "                 KNeighborsRegressor(algorithm='auto', leaf_size=30,\n",
       "                                     metric='minkowski', metric_params=None,\n",
       "                                     n_jobs=None, n_neighbors=6, p=2,\n",
       "                                     weights='uniform'))],\n",
       "         verbose=False)"
      ]
     },
     "execution_count": 728,
     "metadata": {},
     "output_type": "execute_result"
    }
   ],
   "source": [
    "model.fit(X_train,y_train)"
   ]
  },
  {
   "cell_type": "code",
   "execution_count": 729,
   "metadata": {},
   "outputs": [
    {
     "data": {
      "text/plain": [
       "0.8530112192920029"
      ]
     },
     "execution_count": 729,
     "metadata": {},
     "output_type": "execute_result"
    }
   ],
   "source": [
    "model.score(X_test,y_test)"
   ]
  },
  {
   "cell_type": "code",
   "execution_count": 730,
   "metadata": {},
   "outputs": [
    {
     "data": {
      "text/plain": [
       "['model.pkl']"
      ]
     },
     "execution_count": 730,
     "metadata": {},
     "output_type": "execute_result"
    }
   ],
   "source": [
    "from sklearn.externals import joblib\n",
    "joblib.dump(model,\"model.pkl\")"
   ]
  },
  {
   "cell_type": "code",
   "execution_count": 680,
   "metadata": {},
   "outputs": [],
   "source": [
    "from sklearn.pipeline import make_pipeline\n",
    "model = make_pipeline(preprocess, GradientBoostingRegressor(loss ='ls', max_depth=6))"
   ]
  },
  {
   "cell_type": "code",
   "execution_count": 681,
   "metadata": {},
   "outputs": [
    {
     "data": {
      "text/plain": [
       "0.7554235722182594"
      ]
     },
     "execution_count": 681,
     "metadata": {},
     "output_type": "execute_result"
    }
   ],
   "source": [
    "model.fit(X_train,y_train)\n",
    "model.score(X_test,y_test)"
   ]
  },
  {
   "cell_type": "code",
   "execution_count": 682,
   "metadata": {},
   "outputs": [],
   "source": [
    "model = make_pipeline(preprocess, Ridge())"
   ]
  },
  {
   "cell_type": "code",
   "execution_count": 683,
   "metadata": {},
   "outputs": [
    {
     "data": {
      "text/plain": [
       "0.8582834418529413"
      ]
     },
     "execution_count": 683,
     "metadata": {},
     "output_type": "execute_result"
    }
   ],
   "source": [
    "model.fit(X_train,y_train)\n",
    "model.score(X_test,y_test)"
   ]
  },
  {
   "cell_type": "markdown",
   "metadata": {},
   "source": [
    "### Attempting to Predict"
   ]
  },
  {
   "cell_type": "code",
   "execution_count": 731,
   "metadata": {},
   "outputs": [],
   "source": [
    "user_input = {'category':'tops', 'brand':'forever new', 'text':'great silhouette, runs true to size'}"
   ]
  },
  {
   "cell_type": "code",
   "execution_count": 786,
   "metadata": {},
   "outputs": [],
   "source": [
    "data = [['tops','forever new','great silhouette, runs true to size'],\n",
    "        ['bottoms','nike','leggings with motif detail'],\n",
    "        ['bottoms','adidas','leggings with motif detail'],\n",
    "        ['dress','asos design','lace and sequins pink ribbon'],\n",
    "        ['dress','h&m', 'lace and sequins pink ribbon'],\n",
    "        ['dress','zara','lace and sequins pink ribbon']\n",
    "       ]"
   ]
  },
  {
   "cell_type": "code",
   "execution_count": 787,
   "metadata": {},
   "outputs": [],
   "source": [
    "df = pd.DataFrame(data, columns = ['category', 'brand','text']) "
   ]
  },
  {
   "cell_type": "code",
   "execution_count": 788,
   "metadata": {},
   "outputs": [
    {
     "data": {
      "text/html": [
       "<div>\n",
       "<style scoped>\n",
       "    .dataframe tbody tr th:only-of-type {\n",
       "        vertical-align: middle;\n",
       "    }\n",
       "\n",
       "    .dataframe tbody tr th {\n",
       "        vertical-align: top;\n",
       "    }\n",
       "\n",
       "    .dataframe thead th {\n",
       "        text-align: right;\n",
       "    }\n",
       "</style>\n",
       "<table border=\"1\" class=\"dataframe\">\n",
       "  <thead>\n",
       "    <tr style=\"text-align: right;\">\n",
       "      <th></th>\n",
       "      <th>category</th>\n",
       "      <th>brand</th>\n",
       "      <th>text</th>\n",
       "    </tr>\n",
       "  </thead>\n",
       "  <tbody>\n",
       "    <tr>\n",
       "      <th>0</th>\n",
       "      <td>tops</td>\n",
       "      <td>forever new</td>\n",
       "      <td>great silhouette, runs true to size</td>\n",
       "    </tr>\n",
       "    <tr>\n",
       "      <th>1</th>\n",
       "      <td>bottoms</td>\n",
       "      <td>nike</td>\n",
       "      <td>leggings with motif detail</td>\n",
       "    </tr>\n",
       "    <tr>\n",
       "      <th>2</th>\n",
       "      <td>bottoms</td>\n",
       "      <td>adidas</td>\n",
       "      <td>leggings with motif detail</td>\n",
       "    </tr>\n",
       "    <tr>\n",
       "      <th>3</th>\n",
       "      <td>dress</td>\n",
       "      <td>asos design</td>\n",
       "      <td>lace and sequins pink ribbon</td>\n",
       "    </tr>\n",
       "    <tr>\n",
       "      <th>4</th>\n",
       "      <td>dress</td>\n",
       "      <td>h&amp;m</td>\n",
       "      <td>lace and sequins pink ribbon</td>\n",
       "    </tr>\n",
       "    <tr>\n",
       "      <th>5</th>\n",
       "      <td>dress</td>\n",
       "      <td>zara</td>\n",
       "      <td>lace and sequins pink ribbon</td>\n",
       "    </tr>\n",
       "  </tbody>\n",
       "</table>\n",
       "</div>"
      ],
      "text/plain": [
       "  category        brand                                 text\n",
       "0     tops  forever new  great silhouette, runs true to size\n",
       "1  bottoms         nike           leggings with motif detail\n",
       "2  bottoms       adidas           leggings with motif detail\n",
       "3    dress  asos design         lace and sequins pink ribbon\n",
       "4    dress          h&m         lace and sequins pink ribbon\n",
       "5    dress         zara         lace and sequins pink ribbon"
      ]
     },
     "execution_count": 788,
     "metadata": {},
     "output_type": "execute_result"
    }
   ],
   "source": [
    "df"
   ]
  },
  {
   "cell_type": "code",
   "execution_count": 789,
   "metadata": {},
   "outputs": [],
   "source": [
    "df['price']=model.predict(df)"
   ]
  },
  {
   "cell_type": "code",
   "execution_count": 790,
   "metadata": {},
   "outputs": [
    {
     "data": {
      "text/html": [
       "<div>\n",
       "<style scoped>\n",
       "    .dataframe tbody tr th:only-of-type {\n",
       "        vertical-align: middle;\n",
       "    }\n",
       "\n",
       "    .dataframe tbody tr th {\n",
       "        vertical-align: top;\n",
       "    }\n",
       "\n",
       "    .dataframe thead th {\n",
       "        text-align: right;\n",
       "    }\n",
       "</style>\n",
       "<table border=\"1\" class=\"dataframe\">\n",
       "  <thead>\n",
       "    <tr style=\"text-align: right;\">\n",
       "      <th></th>\n",
       "      <th>category</th>\n",
       "      <th>brand</th>\n",
       "      <th>text</th>\n",
       "      <th>price</th>\n",
       "    </tr>\n",
       "  </thead>\n",
       "  <tbody>\n",
       "    <tr>\n",
       "      <th>0</th>\n",
       "      <td>tops</td>\n",
       "      <td>forever new</td>\n",
       "      <td>great silhouette, runs true to size</td>\n",
       "      <td>89.990000</td>\n",
       "    </tr>\n",
       "    <tr>\n",
       "      <th>1</th>\n",
       "      <td>bottoms</td>\n",
       "      <td>nike</td>\n",
       "      <td>leggings with motif detail</td>\n",
       "      <td>73.915000</td>\n",
       "    </tr>\n",
       "    <tr>\n",
       "      <th>2</th>\n",
       "      <td>bottoms</td>\n",
       "      <td>adidas</td>\n",
       "      <td>leggings with motif detail</td>\n",
       "      <td>78.615000</td>\n",
       "    </tr>\n",
       "    <tr>\n",
       "      <th>3</th>\n",
       "      <td>dress</td>\n",
       "      <td>asos design</td>\n",
       "      <td>lace and sequins pink ribbon</td>\n",
       "      <td>72.346667</td>\n",
       "    </tr>\n",
       "    <tr>\n",
       "      <th>4</th>\n",
       "      <td>dress</td>\n",
       "      <td>h&amp;m</td>\n",
       "      <td>lace and sequins pink ribbon</td>\n",
       "      <td>21.323333</td>\n",
       "    </tr>\n",
       "    <tr>\n",
       "      <th>5</th>\n",
       "      <td>dress</td>\n",
       "      <td>zara</td>\n",
       "      <td>lace and sequins pink ribbon</td>\n",
       "      <td>49.566667</td>\n",
       "    </tr>\n",
       "  </tbody>\n",
       "</table>\n",
       "</div>"
      ],
      "text/plain": [
       "  category        brand                                 text      price\n",
       "0     tops  forever new  great silhouette, runs true to size  89.990000\n",
       "1  bottoms         nike           leggings with motif detail  73.915000\n",
       "2  bottoms       adidas           leggings with motif detail  78.615000\n",
       "3    dress  asos design         lace and sequins pink ribbon  72.346667\n",
       "4    dress          h&m         lace and sequins pink ribbon  21.323333\n",
       "5    dress         zara         lace and sequins pink ribbon  49.566667"
      ]
     },
     "execution_count": 790,
     "metadata": {},
     "output_type": "execute_result"
    }
   ],
   "source": [
    "df "
   ]
  },
  {
   "cell_type": "code",
   "execution_count": null,
   "metadata": {},
   "outputs": [],
   "source": []
  }
 ],
 "metadata": {
  "kernelspec": {
   "display_name": "Python 3",
   "language": "python",
   "name": "python3"
  },
  "language_info": {
   "codemirror_mode": {
    "name": "ipython",
    "version": 3
   },
   "file_extension": ".py",
   "mimetype": "text/x-python",
   "name": "python",
   "nbconvert_exporter": "python",
   "pygments_lexer": "ipython3",
   "version": "3.7.3"
  }
 },
 "nbformat": 4,
 "nbformat_minor": 4
}
